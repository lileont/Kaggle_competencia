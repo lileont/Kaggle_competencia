{
 "cells": [
  {
   "cell_type": "code",
   "execution_count": 494,
   "id": "da0c0172-6e8e-462b-b0b0-77f77e846d07",
   "metadata": {},
   "outputs": [],
   "source": [
    "import pandas as pd\n",
    "import numpy as np\n",
    "import matplotlib.pyplot as plt"
   ]
  },
  {
   "cell_type": "code",
   "execution_count": 495,
   "id": "492e9de2-88ab-4bab-b35c-5d191ab64ca2",
   "metadata": {},
   "outputs": [],
   "source": [
    "from sklearn.pipeline import Pipeline\n",
    "from sklearn.linear_model import LinearRegression, Ridge, Lasso\n",
    "from sklearn.preprocessing import RobustScaler, OrdinalEncoder\n",
    "from sklearn.model_selection import train_test_split\n",
    "from sklearn.preprocessing import StandardScaler\n",
    "from sklearn.preprocessing import RobustScaler\n",
    "from sklearn.linear_model import LogisticRegression\n",
    "from sklearn import metrics\n",
    "import sklearn.metrics"
   ]
  },
  {
   "cell_type": "code",
   "execution_count": 496,
   "id": "f32e7251-4bd2-4674-8791-00edaeefc943",
   "metadata": {},
   "outputs": [
    {
     "name": "stdout",
     "output_type": "stream",
     "text": [
      "Requirement already satisfied: feature-engine in c:\\users\\tllt1\\anaconda3\\lib\\site-packages (1.5.2)Note: you may need to restart the kernel to use updated packages.\n",
      "Requirement already satisfied: statsmodels>=0.11.1 in c:\\users\\tllt1\\anaconda3\\lib\\site-packages (from feature-engine) (0.13.2)\n",
      "Requirement already satisfied: pandas>=1.0.3 in c:\\users\\tllt1\\anaconda3\\lib\\site-packages (from feature-engine) (1.4.2)\n",
      "Requirement already satisfied: scipy>=1.4.1 in c:\\users\\tllt1\\anaconda3\\lib\\site-packages (from feature-engine) (1.7.3)\n",
      "Requirement already satisfied: scikit-learn>=1.0.0 in c:\\users\\tllt1\\anaconda3\\lib\\site-packages (from feature-engine) (1.0.2)\n",
      "Requirement already satisfied: numpy>=1.18.2 in c:\\users\\tllt1\\anaconda3\\lib\\site-packages (from feature-engine) (1.21.5)\n",
      "Requirement already satisfied: python-dateutil>=2.8.1 in c:\\users\\tllt1\\anaconda3\\lib\\site-packages (from pandas>=1.0.3->feature-engine) (2.8.2)\n",
      "Requirement already satisfied: pytz>=2020.1 in c:\\users\\tllt1\\anaconda3\\lib\\site-packages (from pandas>=1.0.3->feature-engine) (2021.3)\n",
      "Requirement already satisfied: six>=1.5 in c:\\users\\tllt1\\anaconda3\\lib\\site-packages (from python-dateutil>=2.8.1->pandas>=1.0.3->feature-engine) (1.16.0)\n",
      "Requirement already satisfied: threadpoolctl>=2.0.0 in c:\\users\\tllt1\\anaconda3\\lib\\site-packages (from scikit-learn>=1.0.0->feature-engine) (2.2.0)\n",
      "Requirement already satisfied: joblib>=0.11 in c:\\users\\tllt1\\anaconda3\\lib\\site-packages (from scikit-learn>=1.0.0->feature-engine) (1.2.0)\n",
      "Requirement already satisfied: patsy>=0.5.2 in c:\\users\\tllt1\\anaconda3\\lib\\site-packages (from statsmodels>=0.11.1->feature-engine) (0.5.2)\n",
      "Requirement already satisfied: packaging>=21.3 in c:\\users\\tllt1\\anaconda3\\lib\\site-packages (from statsmodels>=0.11.1->feature-engine) (21.3)\n",
      "Requirement already satisfied: pyparsing!=3.0.5,>=2.0.2 in c:\\users\\tllt1\\anaconda3\\lib\\site-packages (from packaging>=21.3->statsmodels>=0.11.1->feature-engine) (3.0.4)\n",
      "\n"
     ]
    }
   ],
   "source": [
    "pip install feature-engine"
   ]
  },
  {
   "cell_type": "code",
   "execution_count": 497,
   "id": "fa22d04c-19fb-4d9b-ad93-9fe691e70637",
   "metadata": {},
   "outputs": [],
   "source": [
    "from feature_engine import imputation as imp\n",
    "from feature_engine import encoding as enc\n",
    "from feature_engine.wrappers import SklearnTransformerWrapper\n",
    "from feature_engine.encoding import OneHotEncoder\n",
    "from feature_engine import imputation as mdi\n",
    "from feature_engine.wrappers import SklearnTransformerWrapper"
   ]
  },
  {
   "cell_type": "code",
   "execution_count": 498,
   "id": "39ce3108-fc71-43b6-b637-1f03f870b240",
   "metadata": {},
   "outputs": [],
   "source": [
    "df_train_original = pd.read_csv('z_train.csv')"
   ]
  },
  {
   "cell_type": "code",
   "execution_count": 499,
   "id": "d6089c93-d48b-4bda-88b9-2bbe1b74b901",
   "metadata": {},
   "outputs": [],
   "source": [
    "df_train = df_train_original.copy()"
   ]
  },
  {
   "cell_type": "code",
   "execution_count": 500,
   "id": "c4bcc9b3-c3f0-481a-ba0f-d0e4a2cb5f91",
   "metadata": {},
   "outputs": [
    {
     "data": {
      "text/plain": [
       "(15326, 14)"
      ]
     },
     "execution_count": 500,
     "metadata": {},
     "output_type": "execute_result"
    }
   ],
   "source": [
    "df_train.shape"
   ]
  },
  {
   "cell_type": "code",
   "execution_count": 501,
   "id": "02b6be40-5be7-4baf-a155-61463a3845a9",
   "metadata": {},
   "outputs": [
    {
     "data": {
      "text/plain": [
       "(15326, 14)"
      ]
     },
     "execution_count": 501,
     "metadata": {},
     "output_type": "execute_result"
    }
   ],
   "source": [
    "df_train_original.shape"
   ]
  },
  {
   "cell_type": "code",
   "execution_count": 502,
   "id": "4651ecd2-9784-49be-b1bd-e5978b8d29bf",
   "metadata": {},
   "outputs": [
    {
     "data": {
      "text/html": [
       "<div>\n",
       "<style scoped>\n",
       "    .dataframe tbody tr th:only-of-type {\n",
       "        vertical-align: middle;\n",
       "    }\n",
       "\n",
       "    .dataframe tbody tr th {\n",
       "        vertical-align: top;\n",
       "    }\n",
       "\n",
       "    .dataframe thead th {\n",
       "        text-align: right;\n",
       "    }\n",
       "</style>\n",
       "<table border=\"1\" class=\"dataframe\">\n",
       "  <thead>\n",
       "    <tr style=\"text-align: right;\">\n",
       "      <th></th>\n",
       "      <th>enrollee_id</th>\n",
       "      <th>city</th>\n",
       "      <th>city_development_index</th>\n",
       "      <th>gender</th>\n",
       "      <th>relevent_experience</th>\n",
       "      <th>enrolled_university</th>\n",
       "      <th>education_level</th>\n",
       "      <th>major_discipline</th>\n",
       "      <th>experience</th>\n",
       "      <th>company_size</th>\n",
       "      <th>company_type</th>\n",
       "      <th>last_new_job</th>\n",
       "      <th>training_hours</th>\n",
       "      <th>target</th>\n",
       "    </tr>\n",
       "  </thead>\n",
       "  <tbody>\n",
       "    <tr>\n",
       "      <th>0</th>\n",
       "      <td>8949</td>\n",
       "      <td>city_103</td>\n",
       "      <td>0.920</td>\n",
       "      <td>Male</td>\n",
       "      <td>Has relevent experience</td>\n",
       "      <td>no_enrollment</td>\n",
       "      <td>Graduate</td>\n",
       "      <td>STEM</td>\n",
       "      <td>&gt;20</td>\n",
       "      <td>NaN</td>\n",
       "      <td>NaN</td>\n",
       "      <td>1</td>\n",
       "      <td>36</td>\n",
       "      <td>1.0</td>\n",
       "    </tr>\n",
       "    <tr>\n",
       "      <th>1</th>\n",
       "      <td>29725</td>\n",
       "      <td>city_40</td>\n",
       "      <td>0.776</td>\n",
       "      <td>Male</td>\n",
       "      <td>No relevent experience</td>\n",
       "      <td>no_enrollment</td>\n",
       "      <td>Graduate</td>\n",
       "      <td>STEM</td>\n",
       "      <td>15</td>\n",
       "      <td>50-99</td>\n",
       "      <td>Pvt Ltd</td>\n",
       "      <td>&gt;4</td>\n",
       "      <td>47</td>\n",
       "      <td>0.0</td>\n",
       "    </tr>\n",
       "    <tr>\n",
       "      <th>2</th>\n",
       "      <td>11561</td>\n",
       "      <td>city_21</td>\n",
       "      <td>0.624</td>\n",
       "      <td>NaN</td>\n",
       "      <td>No relevent experience</td>\n",
       "      <td>Full time course</td>\n",
       "      <td>Graduate</td>\n",
       "      <td>STEM</td>\n",
       "      <td>5</td>\n",
       "      <td>NaN</td>\n",
       "      <td>NaN</td>\n",
       "      <td>never</td>\n",
       "      <td>83</td>\n",
       "      <td>0.0</td>\n",
       "    </tr>\n",
       "    <tr>\n",
       "      <th>3</th>\n",
       "      <td>33241</td>\n",
       "      <td>city_115</td>\n",
       "      <td>0.789</td>\n",
       "      <td>NaN</td>\n",
       "      <td>No relevent experience</td>\n",
       "      <td>NaN</td>\n",
       "      <td>Graduate</td>\n",
       "      <td>Business Degree</td>\n",
       "      <td>&lt;1</td>\n",
       "      <td>NaN</td>\n",
       "      <td>Pvt Ltd</td>\n",
       "      <td>never</td>\n",
       "      <td>52</td>\n",
       "      <td>1.0</td>\n",
       "    </tr>\n",
       "    <tr>\n",
       "      <th>4</th>\n",
       "      <td>21651</td>\n",
       "      <td>city_176</td>\n",
       "      <td>0.764</td>\n",
       "      <td>NaN</td>\n",
       "      <td>Has relevent experience</td>\n",
       "      <td>Part time course</td>\n",
       "      <td>Graduate</td>\n",
       "      <td>STEM</td>\n",
       "      <td>11</td>\n",
       "      <td>NaN</td>\n",
       "      <td>NaN</td>\n",
       "      <td>1</td>\n",
       "      <td>24</td>\n",
       "      <td>1.0</td>\n",
       "    </tr>\n",
       "  </tbody>\n",
       "</table>\n",
       "</div>"
      ],
      "text/plain": [
       "   enrollee_id      city  city_development_index gender  \\\n",
       "0         8949  city_103                   0.920   Male   \n",
       "1        29725   city_40                   0.776   Male   \n",
       "2        11561   city_21                   0.624    NaN   \n",
       "3        33241  city_115                   0.789    NaN   \n",
       "4        21651  city_176                   0.764    NaN   \n",
       "\n",
       "       relevent_experience enrolled_university education_level  \\\n",
       "0  Has relevent experience       no_enrollment        Graduate   \n",
       "1   No relevent experience       no_enrollment        Graduate   \n",
       "2   No relevent experience    Full time course        Graduate   \n",
       "3   No relevent experience                 NaN        Graduate   \n",
       "4  Has relevent experience    Part time course        Graduate   \n",
       "\n",
       "  major_discipline experience company_size company_type last_new_job  \\\n",
       "0             STEM        >20          NaN          NaN            1   \n",
       "1             STEM         15        50-99      Pvt Ltd           >4   \n",
       "2             STEM          5          NaN          NaN        never   \n",
       "3  Business Degree         <1          NaN      Pvt Ltd        never   \n",
       "4             STEM         11          NaN          NaN            1   \n",
       "\n",
       "   training_hours  target  \n",
       "0              36     1.0  \n",
       "1              47     0.0  \n",
       "2              83     0.0  \n",
       "3              52     1.0  \n",
       "4              24     1.0  "
      ]
     },
     "execution_count": 502,
     "metadata": {},
     "output_type": "execute_result"
    }
   ],
   "source": [
    "df_train.head(5)"
   ]
  },
  {
   "cell_type": "code",
   "execution_count": 503,
   "id": "b308dfdb-f2f6-4822-9941-1f096b5ed036",
   "metadata": {},
   "outputs": [
    {
     "name": "stdout",
     "output_type": "stream",
     "text": [
      "<class 'pandas.core.frame.DataFrame'>\n",
      "RangeIndex: 15326 entries, 0 to 15325\n",
      "Data columns (total 14 columns):\n",
      " #   Column                  Non-Null Count  Dtype  \n",
      "---  ------                  --------------  -----  \n",
      " 0   enrollee_id             15326 non-null  int64  \n",
      " 1   city                    15326 non-null  object \n",
      " 2   city_development_index  15326 non-null  float64\n",
      " 3   gender                  11725 non-null  object \n",
      " 4   relevent_experience     15326 non-null  object \n",
      " 5   enrolled_university     15024 non-null  object \n",
      " 6   education_level         14957 non-null  object \n",
      " 7   major_discipline        13089 non-null  object \n",
      " 8   experience              15276 non-null  object \n",
      " 9   company_size            10592 non-null  object \n",
      " 10  company_type            10435 non-null  object \n",
      " 11  last_new_job            14987 non-null  object \n",
      " 12  training_hours          15326 non-null  int64  \n",
      " 13  target                  15326 non-null  float64\n",
      "dtypes: float64(2), int64(2), object(10)\n",
      "memory usage: 1.6+ MB\n"
     ]
    }
   ],
   "source": [
    "df_train.info()"
   ]
  },
  {
   "cell_type": "code",
   "execution_count": 504,
   "id": "3ffe4b61-4fa3-4615-9d2b-bca3fe541108",
   "metadata": {},
   "outputs": [
    {
     "data": {
      "text/html": [
       "<div>\n",
       "<style scoped>\n",
       "    .dataframe tbody tr th:only-of-type {\n",
       "        vertical-align: middle;\n",
       "    }\n",
       "\n",
       "    .dataframe tbody tr th {\n",
       "        vertical-align: top;\n",
       "    }\n",
       "\n",
       "    .dataframe thead th {\n",
       "        text-align: right;\n",
       "    }\n",
       "</style>\n",
       "<table border=\"1\" class=\"dataframe\">\n",
       "  <thead>\n",
       "    <tr style=\"text-align: right;\">\n",
       "      <th></th>\n",
       "      <th>enrollee_id</th>\n",
       "      <th>city</th>\n",
       "      <th>city_development_index</th>\n",
       "      <th>gender</th>\n",
       "      <th>relevent_experience</th>\n",
       "      <th>enrolled_university</th>\n",
       "      <th>education_level</th>\n",
       "      <th>major_discipline</th>\n",
       "      <th>experience</th>\n",
       "      <th>company_size</th>\n",
       "      <th>company_type</th>\n",
       "      <th>last_new_job</th>\n",
       "      <th>training_hours</th>\n",
       "      <th>target</th>\n",
       "    </tr>\n",
       "  </thead>\n",
       "  <tbody>\n",
       "    <tr>\n",
       "      <th>0</th>\n",
       "      <td>False</td>\n",
       "      <td>False</td>\n",
       "      <td>False</td>\n",
       "      <td>False</td>\n",
       "      <td>False</td>\n",
       "      <td>False</td>\n",
       "      <td>False</td>\n",
       "      <td>False</td>\n",
       "      <td>False</td>\n",
       "      <td>True</td>\n",
       "      <td>True</td>\n",
       "      <td>False</td>\n",
       "      <td>False</td>\n",
       "      <td>False</td>\n",
       "    </tr>\n",
       "    <tr>\n",
       "      <th>1</th>\n",
       "      <td>False</td>\n",
       "      <td>False</td>\n",
       "      <td>False</td>\n",
       "      <td>False</td>\n",
       "      <td>False</td>\n",
       "      <td>False</td>\n",
       "      <td>False</td>\n",
       "      <td>False</td>\n",
       "      <td>False</td>\n",
       "      <td>False</td>\n",
       "      <td>False</td>\n",
       "      <td>False</td>\n",
       "      <td>False</td>\n",
       "      <td>False</td>\n",
       "    </tr>\n",
       "    <tr>\n",
       "      <th>2</th>\n",
       "      <td>False</td>\n",
       "      <td>False</td>\n",
       "      <td>False</td>\n",
       "      <td>True</td>\n",
       "      <td>False</td>\n",
       "      <td>False</td>\n",
       "      <td>False</td>\n",
       "      <td>False</td>\n",
       "      <td>False</td>\n",
       "      <td>True</td>\n",
       "      <td>True</td>\n",
       "      <td>False</td>\n",
       "      <td>False</td>\n",
       "      <td>False</td>\n",
       "    </tr>\n",
       "    <tr>\n",
       "      <th>3</th>\n",
       "      <td>False</td>\n",
       "      <td>False</td>\n",
       "      <td>False</td>\n",
       "      <td>True</td>\n",
       "      <td>False</td>\n",
       "      <td>True</td>\n",
       "      <td>False</td>\n",
       "      <td>False</td>\n",
       "      <td>False</td>\n",
       "      <td>True</td>\n",
       "      <td>False</td>\n",
       "      <td>False</td>\n",
       "      <td>False</td>\n",
       "      <td>False</td>\n",
       "    </tr>\n",
       "    <tr>\n",
       "      <th>4</th>\n",
       "      <td>False</td>\n",
       "      <td>False</td>\n",
       "      <td>False</td>\n",
       "      <td>True</td>\n",
       "      <td>False</td>\n",
       "      <td>False</td>\n",
       "      <td>False</td>\n",
       "      <td>False</td>\n",
       "      <td>False</td>\n",
       "      <td>True</td>\n",
       "      <td>True</td>\n",
       "      <td>False</td>\n",
       "      <td>False</td>\n",
       "      <td>False</td>\n",
       "    </tr>\n",
       "    <tr>\n",
       "      <th>...</th>\n",
       "      <td>...</td>\n",
       "      <td>...</td>\n",
       "      <td>...</td>\n",
       "      <td>...</td>\n",
       "      <td>...</td>\n",
       "      <td>...</td>\n",
       "      <td>...</td>\n",
       "      <td>...</td>\n",
       "      <td>...</td>\n",
       "      <td>...</td>\n",
       "      <td>...</td>\n",
       "      <td>...</td>\n",
       "      <td>...</td>\n",
       "      <td>...</td>\n",
       "    </tr>\n",
       "    <tr>\n",
       "      <th>15321</th>\n",
       "      <td>False</td>\n",
       "      <td>False</td>\n",
       "      <td>False</td>\n",
       "      <td>False</td>\n",
       "      <td>False</td>\n",
       "      <td>False</td>\n",
       "      <td>False</td>\n",
       "      <td>False</td>\n",
       "      <td>False</td>\n",
       "      <td>True</td>\n",
       "      <td>True</td>\n",
       "      <td>False</td>\n",
       "      <td>False</td>\n",
       "      <td>False</td>\n",
       "    </tr>\n",
       "    <tr>\n",
       "      <th>15322</th>\n",
       "      <td>False</td>\n",
       "      <td>False</td>\n",
       "      <td>False</td>\n",
       "      <td>False</td>\n",
       "      <td>False</td>\n",
       "      <td>False</td>\n",
       "      <td>False</td>\n",
       "      <td>False</td>\n",
       "      <td>False</td>\n",
       "      <td>True</td>\n",
       "      <td>True</td>\n",
       "      <td>False</td>\n",
       "      <td>False</td>\n",
       "      <td>False</td>\n",
       "    </tr>\n",
       "    <tr>\n",
       "      <th>15323</th>\n",
       "      <td>False</td>\n",
       "      <td>False</td>\n",
       "      <td>False</td>\n",
       "      <td>False</td>\n",
       "      <td>False</td>\n",
       "      <td>False</td>\n",
       "      <td>False</td>\n",
       "      <td>False</td>\n",
       "      <td>False</td>\n",
       "      <td>False</td>\n",
       "      <td>False</td>\n",
       "      <td>False</td>\n",
       "      <td>False</td>\n",
       "      <td>False</td>\n",
       "    </tr>\n",
       "    <tr>\n",
       "      <th>15324</th>\n",
       "      <td>False</td>\n",
       "      <td>False</td>\n",
       "      <td>False</td>\n",
       "      <td>False</td>\n",
       "      <td>False</td>\n",
       "      <td>False</td>\n",
       "      <td>False</td>\n",
       "      <td>True</td>\n",
       "      <td>False</td>\n",
       "      <td>False</td>\n",
       "      <td>False</td>\n",
       "      <td>False</td>\n",
       "      <td>False</td>\n",
       "      <td>False</td>\n",
       "    </tr>\n",
       "    <tr>\n",
       "      <th>15325</th>\n",
       "      <td>False</td>\n",
       "      <td>False</td>\n",
       "      <td>False</td>\n",
       "      <td>True</td>\n",
       "      <td>False</td>\n",
       "      <td>False</td>\n",
       "      <td>False</td>\n",
       "      <td>True</td>\n",
       "      <td>False</td>\n",
       "      <td>True</td>\n",
       "      <td>True</td>\n",
       "      <td>False</td>\n",
       "      <td>False</td>\n",
       "      <td>False</td>\n",
       "    </tr>\n",
       "  </tbody>\n",
       "</table>\n",
       "<p>15326 rows × 14 columns</p>\n",
       "</div>"
      ],
      "text/plain": [
       "       enrollee_id   city  city_development_index  gender  \\\n",
       "0            False  False                   False   False   \n",
       "1            False  False                   False   False   \n",
       "2            False  False                   False    True   \n",
       "3            False  False                   False    True   \n",
       "4            False  False                   False    True   \n",
       "...            ...    ...                     ...     ...   \n",
       "15321        False  False                   False   False   \n",
       "15322        False  False                   False   False   \n",
       "15323        False  False                   False   False   \n",
       "15324        False  False                   False   False   \n",
       "15325        False  False                   False    True   \n",
       "\n",
       "       relevent_experience  enrolled_university  education_level  \\\n",
       "0                    False                False            False   \n",
       "1                    False                False            False   \n",
       "2                    False                False            False   \n",
       "3                    False                 True            False   \n",
       "4                    False                False            False   \n",
       "...                    ...                  ...              ...   \n",
       "15321                False                False            False   \n",
       "15322                False                False            False   \n",
       "15323                False                False            False   \n",
       "15324                False                False            False   \n",
       "15325                False                False            False   \n",
       "\n",
       "       major_discipline  experience  company_size  company_type  last_new_job  \\\n",
       "0                 False       False          True          True         False   \n",
       "1                 False       False         False         False         False   \n",
       "2                 False       False          True          True         False   \n",
       "3                 False       False          True         False         False   \n",
       "4                 False       False          True          True         False   \n",
       "...                 ...         ...           ...           ...           ...   \n",
       "15321             False       False          True          True         False   \n",
       "15322             False       False          True          True         False   \n",
       "15323             False       False         False         False         False   \n",
       "15324              True       False         False         False         False   \n",
       "15325              True       False          True          True         False   \n",
       "\n",
       "       training_hours  target  \n",
       "0               False   False  \n",
       "1               False   False  \n",
       "2               False   False  \n",
       "3               False   False  \n",
       "4               False   False  \n",
       "...               ...     ...  \n",
       "15321           False   False  \n",
       "15322           False   False  \n",
       "15323           False   False  \n",
       "15324           False   False  \n",
       "15325           False   False  \n",
       "\n",
       "[15326 rows x 14 columns]"
      ]
     },
     "execution_count": 504,
     "metadata": {},
     "output_type": "execute_result"
    }
   ],
   "source": [
    "df_train.isnull()"
   ]
  },
  {
   "cell_type": "code",
   "execution_count": 505,
   "id": "eb69c264-a264-4677-8802-a39e7b66236b",
   "metadata": {},
   "outputs": [
    {
     "data": {
      "text/plain": [
       "Index(['enrollee_id', 'city', 'city_development_index', 'gender',\n",
       "       'relevent_experience', 'enrolled_university', 'education_level',\n",
       "       'major_discipline', 'experience', 'company_size', 'company_type',\n",
       "       'last_new_job', 'training_hours', 'target'],\n",
       "      dtype='object')"
      ]
     },
     "execution_count": 505,
     "metadata": {},
     "output_type": "execute_result"
    }
   ],
   "source": [
    "df_train.columns"
   ]
  },
  {
   "cell_type": "code",
   "execution_count": 506,
   "id": "bb22c136-6fd1-4cd9-9c1f-92c82d160f29",
   "metadata": {},
   "outputs": [
    {
     "data": {
      "text/plain": [
       "enrollee_id                 int64\n",
       "city                       object\n",
       "city_development_index    float64\n",
       "gender                     object\n",
       "relevent_experience        object\n",
       "enrolled_university        object\n",
       "education_level            object\n",
       "major_discipline           object\n",
       "experience                 object\n",
       "company_size               object\n",
       "company_type               object\n",
       "last_new_job               object\n",
       "training_hours              int64\n",
       "target                    float64\n",
       "dtype: object"
      ]
     },
     "execution_count": 506,
     "metadata": {},
     "output_type": "execute_result"
    }
   ],
   "source": [
    "df_train.dtypes"
   ]
  },
  {
   "cell_type": "code",
   "execution_count": 507,
   "id": "5efe8e67-fd6a-4da6-9bf7-7ef1cf480651",
   "metadata": {},
   "outputs": [
    {
     "data": {
      "text/plain": [
       "0.0    11502\n",
       "1.0     3824\n",
       "Name: target, dtype: int64"
      ]
     },
     "execution_count": 507,
     "metadata": {},
     "output_type": "execute_result"
    }
   ],
   "source": [
    "df_train.target.value_counts()"
   ]
  },
  {
   "cell_type": "code",
   "execution_count": 508,
   "id": "c38d1c91-d72d-4894-8f23-eef86a0b805e",
   "metadata": {},
   "outputs": [
    {
     "data": {
      "text/plain": [
       "Male      10577\n",
       "Female      998\n",
       "Other       150\n",
       "Name: gender, dtype: int64"
      ]
     },
     "execution_count": 508,
     "metadata": {},
     "output_type": "execute_result"
    }
   ],
   "source": [
    "df_train.gender.value_counts()"
   ]
  },
  {
   "cell_type": "code",
   "execution_count": 509,
   "id": "ed14b53e-9693-44e0-b0af-ec579eaa7412",
   "metadata": {},
   "outputs": [
    {
     "data": {
      "text/plain": [
       "50-99        2448\n",
       "100-500      2059\n",
       "10000+       1653\n",
       "10/49        1173\n",
       "1000-4999    1066\n",
       "<10          1043\n",
       "500-999       707\n",
       "5000-9999     443\n",
       "Name: company_size, dtype: int64"
      ]
     },
     "execution_count": 509,
     "metadata": {},
     "output_type": "execute_result"
    }
   ],
   "source": [
    "df_train.company_size.value_counts()"
   ]
  },
  {
   "cell_type": "code",
   "execution_count": 510,
   "id": "37264507-da1a-4081-a0e8-97acfe3781f1",
   "metadata": {},
   "outputs": [
    {
     "data": {
      "text/plain": [
       "Pvt Ltd                7873\n",
       "Funded Startup          792\n",
       "Public Sector           773\n",
       "Early Stage Startup     489\n",
       "NGO                     421\n",
       "Other                    87\n",
       "Name: company_type, dtype: int64"
      ]
     },
     "execution_count": 510,
     "metadata": {},
     "output_type": "execute_result"
    }
   ],
   "source": [
    "df_train.company_type.value_counts()"
   ]
  },
  {
   "cell_type": "code",
   "execution_count": 511,
   "id": "ed014e0d-8688-4d15-99bf-f1e892542a55",
   "metadata": {},
   "outputs": [
    {
     "data": {
      "text/plain": [
       ">20    2633\n",
       "5      1148\n",
       "4      1104\n",
       "3      1084\n",
       "6       971\n",
       "2       905\n",
       "7       835\n",
       "10      793\n",
       "9       780\n",
       "8       643\n",
       "15      553\n",
       "11      538\n",
       "14      479\n",
       "1       440\n",
       "16      420\n",
       "<1      408\n",
       "12      384\n",
       "13      304\n",
       "17      281\n",
       "19      235\n",
       "18      225\n",
       "20      113\n",
       "Name: experience, dtype: int64"
      ]
     },
     "execution_count": 511,
     "metadata": {},
     "output_type": "execute_result"
    }
   ],
   "source": [
    "df_train.experience.value_counts()"
   ]
  },
  {
   "cell_type": "code",
   "execution_count": 512,
   "id": "a5c1445f-712e-45a1-b337-d3227b254384",
   "metadata": {},
   "outputs": [],
   "source": [
    "#TRANSFORMACION 1\n",
    "df_train.drop([ 'city','company_size'], axis=1 , inplace = True)"
   ]
  },
  {
   "cell_type": "code",
   "execution_count": 513,
   "id": "5925b3ae-f7de-4fbe-b8c0-846a051b0538",
   "metadata": {},
   "outputs": [
    {
     "data": {
      "text/plain": [
       "Index(['enrollee_id', 'city_development_index', 'gender',\n",
       "       'relevent_experience', 'enrolled_university', 'education_level',\n",
       "       'major_discipline', 'experience', 'company_type', 'last_new_job',\n",
       "       'training_hours', 'target'],\n",
       "      dtype='object')"
      ]
     },
     "execution_count": 513,
     "metadata": {},
     "output_type": "execute_result"
    }
   ],
   "source": [
    "df_train.columns"
   ]
  },
  {
   "cell_type": "code",
   "execution_count": 514,
   "id": "a1f82b06-6e90-4008-8188-dcc47d275ac7",
   "metadata": {},
   "outputs": [],
   "source": [
    "def experiencia_convert(num):\n",
    "    num= str(num)\n",
    "    if '>' in num:\n",
    "        num = num.replace('>','')\n",
    "        return num\n",
    "    \n",
    "    if '<' in num:\n",
    "        num = num.replace('<1','0')\n",
    "        return num\n",
    "    \n",
    "    if 'nan' in num:\n",
    "        num = num.replace('nan','')\n",
    "        return num\n",
    "    \n",
    "    else:\n",
    "        return num"
   ]
  },
  {
   "cell_type": "code",
   "execution_count": 515,
   "id": "ed8f3607-37e5-4458-887f-287f33e0ea3f",
   "metadata": {},
   "outputs": [
    {
     "data": {
      "text/plain": [
       "20    2746\n",
       "5     1148\n",
       "4     1104\n",
       "3     1084\n",
       "6      971\n",
       "2      905\n",
       "7      835\n",
       "10     793\n",
       "9      780\n",
       "8      643\n",
       "15     553\n",
       "11     538\n",
       "14     479\n",
       "1      440\n",
       "16     420\n",
       "0      408\n",
       "12     384\n",
       "13     304\n",
       "17     281\n",
       "19     235\n",
       "18     225\n",
       "        50\n",
       "Name: experience, dtype: int64"
      ]
     },
     "execution_count": 515,
     "metadata": {},
     "output_type": "execute_result"
    }
   ],
   "source": [
    "#TRANSFORMACION 2\n",
    "df_train.experience = df_train.experience.apply(experiencia_convert)\n",
    "df_train.experience.value_counts()"
   ]
  },
  {
   "cell_type": "code",
   "execution_count": 516,
   "id": "00f23851-f212-44f2-a8ba-24c19f75a5e7",
   "metadata": {},
   "outputs": [
    {
     "data": {
      "text/plain": [
       "0    20\n",
       "1    15\n",
       "Name: experience, dtype: object"
      ]
     },
     "execution_count": 516,
     "metadata": {},
     "output_type": "execute_result"
    }
   ],
   "source": [
    "df_train.experience.head(2)"
   ]
  },
  {
   "cell_type": "code",
   "execution_count": 517,
   "id": "09cd27e9-4669-49cc-86e0-eb84ddcefd4e",
   "metadata": {},
   "outputs": [],
   "source": [
    "df_train['experience'] = pd.to_numeric(df_train.experience)"
   ]
  },
  {
   "cell_type": "code",
   "execution_count": 518,
   "id": "d956349f-5499-46b3-828b-0ef9520df087",
   "metadata": {},
   "outputs": [
    {
     "data": {
      "text/plain": [
       "dtype('float64')"
      ]
     },
     "execution_count": 518,
     "metadata": {},
     "output_type": "execute_result"
    }
   ],
   "source": [
    "df_train.experience[0].dtype"
   ]
  },
  {
   "cell_type": "code",
   "execution_count": 519,
   "id": "4b30b097-3280-4805-adfe-6d45f4876c14",
   "metadata": {},
   "outputs": [
    {
     "data": {
      "text/plain": [
       "dtype('float64')"
      ]
     },
     "execution_count": 519,
     "metadata": {},
     "output_type": "execute_result"
    }
   ],
   "source": [
    "df_train.experience.loc[5680].dtype"
   ]
  },
  {
   "cell_type": "code",
   "execution_count": 520,
   "id": "9a26dc3f-7fa2-448d-9aa2-507b45297927",
   "metadata": {},
   "outputs": [
    {
     "data": {
      "text/html": [
       "<div>\n",
       "<style scoped>\n",
       "    .dataframe tbody tr th:only-of-type {\n",
       "        vertical-align: middle;\n",
       "    }\n",
       "\n",
       "    .dataframe tbody tr th {\n",
       "        vertical-align: top;\n",
       "    }\n",
       "\n",
       "    .dataframe thead th {\n",
       "        text-align: right;\n",
       "    }\n",
       "</style>\n",
       "<table border=\"1\" class=\"dataframe\">\n",
       "  <thead>\n",
       "    <tr style=\"text-align: right;\">\n",
       "      <th></th>\n",
       "      <th>enrollee_id</th>\n",
       "      <th>city_development_index</th>\n",
       "      <th>gender</th>\n",
       "      <th>relevent_experience</th>\n",
       "      <th>enrolled_university</th>\n",
       "      <th>education_level</th>\n",
       "      <th>major_discipline</th>\n",
       "      <th>experience</th>\n",
       "      <th>company_type</th>\n",
       "      <th>last_new_job</th>\n",
       "      <th>training_hours</th>\n",
       "      <th>target</th>\n",
       "    </tr>\n",
       "  </thead>\n",
       "  <tbody>\n",
       "    <tr>\n",
       "      <th>0</th>\n",
       "      <td>8949</td>\n",
       "      <td>0.920</td>\n",
       "      <td>Male</td>\n",
       "      <td>Has relevent experience</td>\n",
       "      <td>no_enrollment</td>\n",
       "      <td>Graduate</td>\n",
       "      <td>STEM</td>\n",
       "      <td>20.0</td>\n",
       "      <td>NaN</td>\n",
       "      <td>1</td>\n",
       "      <td>36</td>\n",
       "      <td>1.0</td>\n",
       "    </tr>\n",
       "    <tr>\n",
       "      <th>1</th>\n",
       "      <td>29725</td>\n",
       "      <td>0.776</td>\n",
       "      <td>Male</td>\n",
       "      <td>No relevent experience</td>\n",
       "      <td>no_enrollment</td>\n",
       "      <td>Graduate</td>\n",
       "      <td>STEM</td>\n",
       "      <td>15.0</td>\n",
       "      <td>Pvt Ltd</td>\n",
       "      <td>&gt;4</td>\n",
       "      <td>47</td>\n",
       "      <td>0.0</td>\n",
       "    </tr>\n",
       "    <tr>\n",
       "      <th>2</th>\n",
       "      <td>11561</td>\n",
       "      <td>0.624</td>\n",
       "      <td>NaN</td>\n",
       "      <td>No relevent experience</td>\n",
       "      <td>Full time course</td>\n",
       "      <td>Graduate</td>\n",
       "      <td>STEM</td>\n",
       "      <td>5.0</td>\n",
       "      <td>NaN</td>\n",
       "      <td>never</td>\n",
       "      <td>83</td>\n",
       "      <td>0.0</td>\n",
       "    </tr>\n",
       "    <tr>\n",
       "      <th>3</th>\n",
       "      <td>33241</td>\n",
       "      <td>0.789</td>\n",
       "      <td>NaN</td>\n",
       "      <td>No relevent experience</td>\n",
       "      <td>NaN</td>\n",
       "      <td>Graduate</td>\n",
       "      <td>Business Degree</td>\n",
       "      <td>0.0</td>\n",
       "      <td>Pvt Ltd</td>\n",
       "      <td>never</td>\n",
       "      <td>52</td>\n",
       "      <td>1.0</td>\n",
       "    </tr>\n",
       "    <tr>\n",
       "      <th>4</th>\n",
       "      <td>21651</td>\n",
       "      <td>0.764</td>\n",
       "      <td>NaN</td>\n",
       "      <td>Has relevent experience</td>\n",
       "      <td>Part time course</td>\n",
       "      <td>Graduate</td>\n",
       "      <td>STEM</td>\n",
       "      <td>11.0</td>\n",
       "      <td>NaN</td>\n",
       "      <td>1</td>\n",
       "      <td>24</td>\n",
       "      <td>1.0</td>\n",
       "    </tr>\n",
       "  </tbody>\n",
       "</table>\n",
       "</div>"
      ],
      "text/plain": [
       "   enrollee_id  city_development_index gender      relevent_experience  \\\n",
       "0         8949                   0.920   Male  Has relevent experience   \n",
       "1        29725                   0.776   Male   No relevent experience   \n",
       "2        11561                   0.624    NaN   No relevent experience   \n",
       "3        33241                   0.789    NaN   No relevent experience   \n",
       "4        21651                   0.764    NaN  Has relevent experience   \n",
       "\n",
       "  enrolled_university education_level major_discipline  experience  \\\n",
       "0       no_enrollment        Graduate             STEM        20.0   \n",
       "1       no_enrollment        Graduate             STEM        15.0   \n",
       "2    Full time course        Graduate             STEM         5.0   \n",
       "3                 NaN        Graduate  Business Degree         0.0   \n",
       "4    Part time course        Graduate             STEM        11.0   \n",
       "\n",
       "  company_type last_new_job  training_hours  target  \n",
       "0          NaN            1              36     1.0  \n",
       "1      Pvt Ltd           >4              47     0.0  \n",
       "2          NaN        never              83     0.0  \n",
       "3      Pvt Ltd        never              52     1.0  \n",
       "4          NaN            1              24     1.0  "
      ]
     },
     "execution_count": 520,
     "metadata": {},
     "output_type": "execute_result"
    }
   ],
   "source": [
    "df_train.head(5)"
   ]
  },
  {
   "cell_type": "code",
   "execution_count": 521,
   "id": "c52053fc-9c77-4e1b-a16b-9dabce4fd9a5",
   "metadata": {},
   "outputs": [],
   "source": [
    "def cambiar_new_job(num):\n",
    "    num= str(num)\n",
    "    #print(type(num))\n",
    "    if '>4' in num:\n",
    "        num = num.replace('>4','5')\n",
    "        #num = float(num)\n",
    "        return num\n",
    "    \n",
    "    if 'never' in num:\n",
    "        num = num.replace('never','0')\n",
    "        #num = float(num)\n",
    "        return num\n",
    "    \n",
    "    if 'nan' in num:\n",
    "        num = num.replace('nan','')\n",
    "        #num = float(num)\n",
    "        return num\n",
    "    \n",
    "    else:\n",
    "        #num = float(num)\n",
    "        return num"
   ]
  },
  {
   "cell_type": "code",
   "execution_count": 522,
   "id": "c78360d3-b14d-44f8-999b-600aa069cd37",
   "metadata": {},
   "outputs": [],
   "source": [
    "#TRANSFORMACION 3\n",
    "\n",
    "df_train.last_new_job = df_train.last_new_job.apply(cambiar_new_job)\n",
    "df_train['last_new_job'] = pd.to_numeric(df_train.last_new_job)"
   ]
  },
  {
   "cell_type": "code",
   "execution_count": 523,
   "id": "a46657b5-9d7a-4d5a-b12f-c4a06edddbe4",
   "metadata": {},
   "outputs": [
    {
     "data": {
      "text/plain": [
       "dtype('float64')"
      ]
     },
     "execution_count": 523,
     "metadata": {},
     "output_type": "execute_result"
    }
   ],
   "source": [
    "df_train.last_new_job[0].dtype"
   ]
  },
  {
   "cell_type": "code",
   "execution_count": 524,
   "id": "263d94f5-7d05-4e72-88ac-07717ec1921b",
   "metadata": {},
   "outputs": [
    {
     "data": {
      "text/plain": [
       "dtype('float64')"
      ]
     },
     "execution_count": 524,
     "metadata": {},
     "output_type": "execute_result"
    }
   ],
   "source": [
    "df_train.experience.loc[15000].dtype"
   ]
  },
  {
   "cell_type": "code",
   "execution_count": 525,
   "id": "96f48dcf-e037-4435-9c2c-1a4d1410fdd0",
   "metadata": {},
   "outputs": [
    {
     "data": {
      "text/plain": [
       "Index(['enrollee_id', 'city_development_index', 'gender',\n",
       "       'relevent_experience', 'enrolled_university', 'education_level',\n",
       "       'major_discipline', 'experience', 'company_type', 'last_new_job',\n",
       "       'training_hours', 'target'],\n",
       "      dtype='object')"
      ]
     },
     "execution_count": 525,
     "metadata": {},
     "output_type": "execute_result"
    }
   ],
   "source": [
    "df_train.columns"
   ]
  },
  {
   "cell_type": "code",
   "execution_count": 526,
   "id": "6b615510-de70-44dc-80e3-38db4d821aef",
   "metadata": {},
   "outputs": [],
   "source": [
    "X_train, X_test, y_train, y_test = train_test_split(df_train.drop(columns = ['target']), df_train.target, test_size = 0.2, random_state = 525)"
   ]
  },
  {
   "cell_type": "code",
   "execution_count": 527,
   "id": "f8c63143-5bc9-42c3-98d2-8daf118aab89",
   "metadata": {},
   "outputs": [
    {
     "data": {
      "text/plain": [
       "(15326, 12)"
      ]
     },
     "execution_count": 527,
     "metadata": {},
     "output_type": "execute_result"
    }
   ],
   "source": [
    "df_train.shape"
   ]
  },
  {
   "cell_type": "code",
   "execution_count": 528,
   "id": "2411a514-76be-4a4e-b6c4-2a580218babd",
   "metadata": {},
   "outputs": [
    {
     "data": {
      "text/plain": [
       "(12260, 11)"
      ]
     },
     "execution_count": 528,
     "metadata": {},
     "output_type": "execute_result"
    }
   ],
   "source": [
    "X_train.shape"
   ]
  },
  {
   "cell_type": "code",
   "execution_count": 529,
   "id": "05bb1909-b13c-4a26-acea-171c5c897b23",
   "metadata": {},
   "outputs": [
    {
     "data": {
      "text/plain": [
       "(3066, 11)"
      ]
     },
     "execution_count": 529,
     "metadata": {},
     "output_type": "execute_result"
    }
   ],
   "source": [
    "X_test.shape"
   ]
  },
  {
   "cell_type": "code",
   "execution_count": 530,
   "id": "6320e9d0-da09-4030-8654-003d8b60530b",
   "metadata": {},
   "outputs": [
    {
     "data": {
      "text/plain": [
       "15326"
      ]
     },
     "execution_count": 530,
     "metadata": {},
     "output_type": "execute_result"
    }
   ],
   "source": [
    "12260+3066"
   ]
  },
  {
   "cell_type": "code",
   "execution_count": 531,
   "id": "9bb6f5b5-c2ad-4318-8bfb-1ce241025c98",
   "metadata": {},
   "outputs": [
    {
     "data": {
      "text/plain": [
       "(12260,)"
      ]
     },
     "execution_count": 531,
     "metadata": {},
     "output_type": "execute_result"
    }
   ],
   "source": [
    "y_train.shape"
   ]
  },
  {
   "cell_type": "code",
   "execution_count": 532,
   "id": "68f2f1c3-19e4-4f84-9de4-f67ec3f98389",
   "metadata": {},
   "outputs": [
    {
     "name": "stdout",
     "output_type": "stream",
     "text": [
      "Requirement already satisfied: imblearn in c:\\users\\tllt1\\anaconda3\\lib\\site-packages (0.0)\n",
      "Requirement already satisfied: imbalanced-learn in c:\\users\\tllt1\\anaconda3\\lib\\site-packages (from imblearn) (0.10.1)\n",
      "Requirement already satisfied: scipy>=1.3.2 in c:\\users\\tllt1\\anaconda3\\lib\\site-packages (from imbalanced-learn->imblearn) (1.7.3)\n",
      "Requirement already satisfied: joblib>=1.1.1 in c:\\users\\tllt1\\anaconda3\\lib\\site-packages (from imbalanced-learn->imblearn) (1.2.0)\n",
      "Requirement already satisfied: numpy>=1.17.3 in c:\\users\\tllt1\\anaconda3\\lib\\site-packages (from imbalanced-learn->imblearn) (1.21.5)\n",
      "Requirement already satisfied: threadpoolctl>=2.0.0 in c:\\users\\tllt1\\anaconda3\\lib\\site-packages (from imbalanced-learn->imblearn) (2.2.0)\n",
      "Requirement already satisfied: scikit-learn>=1.0.2 in c:\\users\\tllt1\\anaconda3\\lib\\site-packages (from imbalanced-learn->imblearn) (1.0.2)\n"
     ]
    }
   ],
   "source": [
    "!pip install imblearn\n"
   ]
  },
  {
   "cell_type": "code",
   "execution_count": 533,
   "id": "d35ca281-5c12-405c-960c-7ed06e9a6225",
   "metadata": {},
   "outputs": [],
   "source": [
    "from imblearn.over_sampling import SMOTE\n",
    "from imblearn.over_sampling import RandomOverSampler\n",
    "from imblearn.under_sampling import RandomUnderSampler"
   ]
  },
  {
   "cell_type": "code",
   "execution_count": 534,
   "id": "b2eb9499-3592-4da4-a0bb-c698002e4813",
   "metadata": {},
   "outputs": [],
   "source": [
    "sm = SMOTE(random_state = 525)"
   ]
  },
  {
   "cell_type": "code",
   "execution_count": 535,
   "id": "e6e2b485-59b9-4d9c-903e-978e27059b96",
   "metadata": {},
   "outputs": [],
   "source": [
    "oversampler = RandomOverSampler()\n",
    "undersampler = RandomUnderSampler()"
   ]
  },
  {
   "cell_type": "code",
   "execution_count": 536,
   "id": "c6b0abfe-d7e8-4dfc-bada-5fcd748df5c4",
   "metadata": {},
   "outputs": [],
   "source": [
    "# Deje los mismos nombres para no cambiarlos en todo el book pero es UNDERSAMPLING\n",
    "X_train_over, y_train_over = undersampler.fit_resample(X_train, y_train)"
   ]
  },
  {
   "cell_type": "code",
   "execution_count": 537,
   "id": "16f2e9ed-2d29-4ef4-b69e-c16140ef1574",
   "metadata": {},
   "outputs": [
    {
     "data": {
      "text/plain": [
       "(6078, 11)"
      ]
     },
     "execution_count": 537,
     "metadata": {},
     "output_type": "execute_result"
    }
   ],
   "source": [
    "X_train_over.shape"
   ]
  },
  {
   "cell_type": "code",
   "execution_count": 538,
   "id": "33431bf3-54f5-4d4e-9e86-df9df5e0c731",
   "metadata": {},
   "outputs": [
    {
     "data": {
      "text/plain": [
       "(6078,)"
      ]
     },
     "execution_count": 538,
     "metadata": {},
     "output_type": "execute_result"
    }
   ],
   "source": [
    "y_train_over.shape"
   ]
  },
  {
   "cell_type": "code",
   "execution_count": 539,
   "id": "8ee23c8a-de13-4103-a7ff-251446afd43e",
   "metadata": {},
   "outputs": [
    {
     "data": {
      "text/plain": [
       "0.0    3039\n",
       "1.0    3039\n",
       "Name: target, dtype: int64"
      ]
     },
     "execution_count": 539,
     "metadata": {},
     "output_type": "execute_result"
    }
   ],
   "source": [
    "y_train_over.value_counts()"
   ]
  },
  {
   "cell_type": "code",
   "execution_count": 540,
   "id": "33c4f7b9-2a9d-406e-a2db-405f06aaa1c3",
   "metadata": {},
   "outputs": [],
   "source": [
    "from sklearn.tree import DecisionTreeClassifier"
   ]
  },
  {
   "cell_type": "code",
   "execution_count": 541,
   "id": "3de5b94d-f7c1-408b-ba70-eb40aad72cc6",
   "metadata": {},
   "outputs": [
    {
     "name": "stdout",
     "output_type": "stream",
     "text": [
      "Requirement already satisfied: graphviz in c:\\users\\tllt1\\anaconda3\\lib\\site-packages (0.20.1)\n",
      "Note: you may need to restart the kernel to use updated packages.\n"
     ]
    }
   ],
   "source": [
    "pip install graphviz"
   ]
  },
  {
   "cell_type": "code",
   "execution_count": 542,
   "id": "8516ca56-1fe9-45c1-b777-4300d3336d8f",
   "metadata": {},
   "outputs": [],
   "source": [
    "import graphviz\n",
    "from sklearn import tree"
   ]
  },
  {
   "cell_type": "code",
   "execution_count": 543,
   "id": "ad6544f7-5bb6-4d35-a4dc-aee5f0c92343",
   "metadata": {},
   "outputs": [],
   "source": [
    "from sklearn.model_selection import GridSearchCV"
   ]
  },
  {
   "cell_type": "code",
   "execution_count": 544,
   "id": "db6cf30c-8d15-4c22-83c3-0e6eff670ddd",
   "metadata": {},
   "outputs": [
    {
     "name": "stdout",
     "output_type": "stream",
     "text": [
      "[Pipeline] ... (step 1 of 4) Processing mean_imputation, total=   0.0s\n",
      "[Pipeline] ... (step 2 of 4) Processing mode_imputation, total=   0.0s\n",
      "[Pipeline] ........... (step 3 of 4) Processing escalar, total=   0.0s\n",
      "[Pipeline] ........... (step 4 of 4) Processing one_hot, total=   0.0s\n"
     ]
    },
    {
     "data": {
      "text/plain": [
       "Pipeline(steps=[('mean_imputation',\n",
       "                 MeanMedianImputer(imputation_method='mean',\n",
       "                                   variables=['experience', 'last_new_job',\n",
       "                                              'training_hours'])),\n",
       "                ('mode_imputation',\n",
       "                 CategoricalImputer(imputation_method='frequent',\n",
       "                                    variables=['enrolled_university',\n",
       "                                               'education_level',\n",
       "                                               'major_discipline',\n",
       "                                               'relevent_experience', 'gender',\n",
       "                                               'company_type'])),\n",
       "                ('escalar',\n",
       "                 SklearnTransformerWrapper(transformer=StandardScaler(),\n",
       "                                           variables=['experience',\n",
       "                                                      'last_new_job',\n",
       "                                                      'training_hours'])),\n",
       "                ('one_hot',\n",
       "                 OneHotEncoder(variables=['enrolled_university',\n",
       "                                          'education_level', 'major_discipline',\n",
       "                                          'relevent_experience', 'gender',\n",
       "                                          'company_type']))],\n",
       "         verbose=True)"
      ]
     },
     "execution_count": 544,
     "metadata": {},
     "output_type": "execute_result"
    }
   ],
   "source": [
    "pipeline_competencia = Pipeline([('mean_imputation', mdi.MeanMedianImputer(imputation_method = 'mean',\n",
    "                                                                             variables = ['experience', 'last_new_job','training_hours'])),\n",
    "                                   ('mode_imputation', mdi.CategoricalImputer(imputation_method = 'frequent',\n",
    "                                    variables = ['enrolled_university', 'education_level', 'major_discipline','relevent_experience','gender','company_type'])),\n",
    "                                   ('escalar', SklearnTransformerWrapper(StandardScaler(), variables=['experience', 'last_new_job','training_hours'])),\n",
    "                                   ('one_hot', enc.OneHotEncoder(variables = ['enrolled_university', 'education_level', 'major_discipline','relevent_experience','gender','company_type'])),\n",
    "                                   #('modelo', DecisionTreeClassifier())\n",
    "                                   ], verbose = True)\n",
    "pipeline_competencia.fit(X_train_over, y_train_over)"
   ]
  },
  {
   "cell_type": "code",
   "execution_count": 545,
   "id": "77fd053b-bbaf-4015-b3fc-6010935198e9",
   "metadata": {},
   "outputs": [],
   "source": [
    "#pred = pipeline_netflix_price.predict(X_train)\n",
    "#pred_test = pipeline_netflix_price.predict(X_test)"
   ]
  },
  {
   "cell_type": "code",
   "execution_count": 546,
   "id": "9700b6d5-2edd-4183-b810-94863c957843",
   "metadata": {},
   "outputs": [],
   "source": [
    "df_test_original = pd.read_csv('z_test.csv')"
   ]
  },
  {
   "cell_type": "code",
   "execution_count": 547,
   "id": "695afc7d-23ba-4380-a23b-dad7ca3d3e69",
   "metadata": {},
   "outputs": [
    {
     "data": {
      "text/plain": [
       "(3832, 13)"
      ]
     },
     "execution_count": 547,
     "metadata": {},
     "output_type": "execute_result"
    }
   ],
   "source": [
    "df_test_original.shape"
   ]
  },
  {
   "cell_type": "code",
   "execution_count": 548,
   "id": "de6551ec-fd3f-46bf-bb09-3825086cc20c",
   "metadata": {
    "tags": []
   },
   "outputs": [],
   "source": [
    "df_test_original = df_test_original[['enrollee_id', 'city_development_index', 'gender',\n",
    "       'relevent_experience', 'enrolled_university', 'education_level',\n",
    "       'major_discipline', 'experience', 'company_type', 'last_new_job',\n",
    "       'training_hours']]"
   ]
  },
  {
   "cell_type": "code",
   "execution_count": 549,
   "id": "d76f1afb-3242-4e90-a66e-390d48918b26",
   "metadata": {
    "tags": []
   },
   "outputs": [
    {
     "data": {
      "text/html": [
       "<div>\n",
       "<style scoped>\n",
       "    .dataframe tbody tr th:only-of-type {\n",
       "        vertical-align: middle;\n",
       "    }\n",
       "\n",
       "    .dataframe tbody tr th {\n",
       "        vertical-align: top;\n",
       "    }\n",
       "\n",
       "    .dataframe thead th {\n",
       "        text-align: right;\n",
       "    }\n",
       "</style>\n",
       "<table border=\"1\" class=\"dataframe\">\n",
       "  <thead>\n",
       "    <tr style=\"text-align: right;\">\n",
       "      <th></th>\n",
       "      <th>enrollee_id</th>\n",
       "      <th>city_development_index</th>\n",
       "      <th>gender</th>\n",
       "      <th>relevent_experience</th>\n",
       "      <th>enrolled_university</th>\n",
       "      <th>education_level</th>\n",
       "      <th>major_discipline</th>\n",
       "      <th>experience</th>\n",
       "      <th>company_type</th>\n",
       "      <th>last_new_job</th>\n",
       "      <th>training_hours</th>\n",
       "    </tr>\n",
       "  </thead>\n",
       "  <tbody>\n",
       "    <tr>\n",
       "      <th>0</th>\n",
       "      <td>23603</td>\n",
       "      <td>0.920</td>\n",
       "      <td>Male</td>\n",
       "      <td>No relevent experience</td>\n",
       "      <td>Full time course</td>\n",
       "      <td>Graduate</td>\n",
       "      <td>STEM</td>\n",
       "      <td>5</td>\n",
       "      <td>NaN</td>\n",
       "      <td>1</td>\n",
       "      <td>78</td>\n",
       "    </tr>\n",
       "    <tr>\n",
       "      <th>1</th>\n",
       "      <td>22499</td>\n",
       "      <td>0.890</td>\n",
       "      <td>NaN</td>\n",
       "      <td>Has relevent experience</td>\n",
       "      <td>Full time course</td>\n",
       "      <td>High School</td>\n",
       "      <td>NaN</td>\n",
       "      <td>6</td>\n",
       "      <td>Pvt Ltd</td>\n",
       "      <td>1</td>\n",
       "      <td>36</td>\n",
       "    </tr>\n",
       "    <tr>\n",
       "      <th>2</th>\n",
       "      <td>10465</td>\n",
       "      <td>0.689</td>\n",
       "      <td>Male</td>\n",
       "      <td>No relevent experience</td>\n",
       "      <td>no_enrollment</td>\n",
       "      <td>Graduate</td>\n",
       "      <td>STEM</td>\n",
       "      <td>5</td>\n",
       "      <td>NaN</td>\n",
       "      <td>never</td>\n",
       "      <td>34</td>\n",
       "    </tr>\n",
       "    <tr>\n",
       "      <th>3</th>\n",
       "      <td>8293</td>\n",
       "      <td>0.855</td>\n",
       "      <td>Female</td>\n",
       "      <td>Has relevent experience</td>\n",
       "      <td>no_enrollment</td>\n",
       "      <td>Masters</td>\n",
       "      <td>STEM</td>\n",
       "      <td>9</td>\n",
       "      <td>Pvt Ltd</td>\n",
       "      <td>1</td>\n",
       "      <td>149</td>\n",
       "    </tr>\n",
       "    <tr>\n",
       "      <th>4</th>\n",
       "      <td>4246</td>\n",
       "      <td>0.920</td>\n",
       "      <td>Male</td>\n",
       "      <td>Has relevent experience</td>\n",
       "      <td>no_enrollment</td>\n",
       "      <td>Graduate</td>\n",
       "      <td>STEM</td>\n",
       "      <td>16</td>\n",
       "      <td>Funded Startup</td>\n",
       "      <td>2</td>\n",
       "      <td>7</td>\n",
       "    </tr>\n",
       "  </tbody>\n",
       "</table>\n",
       "</div>"
      ],
      "text/plain": [
       "   enrollee_id  city_development_index  gender      relevent_experience  \\\n",
       "0        23603                   0.920    Male   No relevent experience   \n",
       "1        22499                   0.890     NaN  Has relevent experience   \n",
       "2        10465                   0.689    Male   No relevent experience   \n",
       "3         8293                   0.855  Female  Has relevent experience   \n",
       "4         4246                   0.920    Male  Has relevent experience   \n",
       "\n",
       "  enrolled_university education_level major_discipline experience  \\\n",
       "0    Full time course        Graduate             STEM          5   \n",
       "1    Full time course     High School              NaN          6   \n",
       "2       no_enrollment        Graduate             STEM          5   \n",
       "3       no_enrollment         Masters             STEM          9   \n",
       "4       no_enrollment        Graduate             STEM         16   \n",
       "\n",
       "     company_type last_new_job  training_hours  \n",
       "0             NaN            1              78  \n",
       "1         Pvt Ltd            1              36  \n",
       "2             NaN        never              34  \n",
       "3         Pvt Ltd            1             149  \n",
       "4  Funded Startup            2               7  "
      ]
     },
     "execution_count": 549,
     "metadata": {},
     "output_type": "execute_result"
    }
   ],
   "source": [
    "df_test_original.head(5)"
   ]
  },
  {
   "cell_type": "code",
   "execution_count": 550,
   "id": "b98bf23e-db1f-4b98-9b04-d6bf82186394",
   "metadata": {
    "tags": []
   },
   "outputs": [],
   "source": [
    "#TRANSFORMACION 1\n",
    "#df_train.drop([ 'city','company_size'], axis=1 , inplace = True)"
   ]
  },
  {
   "cell_type": "code",
   "execution_count": 551,
   "id": "90600099-1a89-4258-bb8c-331705a57985",
   "metadata": {},
   "outputs": [
    {
     "data": {
      "text/plain": [
       "20    688\n",
       "4     299\n",
       "5     282\n",
       "3     270\n",
       "6     245\n",
       "2     222\n",
       "9     200\n",
       "7     193\n",
       "10    192\n",
       "8     159\n",
       "15    133\n",
       "11    126\n",
       "0     114\n",
       "12    110\n",
       "1     109\n",
       "14    107\n",
       "13     95\n",
       "16     88\n",
       "19     69\n",
       "17     61\n",
       "18     55\n",
       "       15\n",
       "Name: experience, dtype: int64"
      ]
     },
     "execution_count": 551,
     "metadata": {},
     "output_type": "execute_result"
    }
   ],
   "source": [
    "#TRANSFORMACION 2\n",
    "df_test_original.experience = df_test_original.experience.apply(experiencia_convert)\n",
    "df_test_original.experience.value_counts()"
   ]
  },
  {
   "cell_type": "code",
   "execution_count": 552,
   "id": "8d6ab8f5-2abb-4f23-b32b-9153144d3121",
   "metadata": {
    "tags": []
   },
   "outputs": [],
   "source": [
    "df_test_original['experience'] = pd.to_numeric(df_test_original.experience)"
   ]
  },
  {
   "cell_type": "code",
   "execution_count": 553,
   "id": "a93762c2-a6ff-4b2a-82fc-61e887512730",
   "metadata": {},
   "outputs": [],
   "source": [
    "#TRANSFORMACION 3\n",
    "\n",
    "df_test_original.last_new_job = df_test_original.last_new_job.apply(cambiar_new_job)\n",
    "df_test_original['last_new_job'] = pd.to_numeric(df_test_original.last_new_job)"
   ]
  },
  {
   "cell_type": "code",
   "execution_count": 554,
   "id": "bf680497-d69e-4806-b186-e273fc657c68",
   "metadata": {},
   "outputs": [
    {
     "data": {
      "text/plain": [
       "1.0    1582\n",
       "5.0     663\n",
       "2.0     582\n",
       "0.0     507\n",
       "3.0     208\n",
       "4.0     206\n",
       "Name: last_new_job, dtype: int64"
      ]
     },
     "execution_count": 554,
     "metadata": {},
     "output_type": "execute_result"
    }
   ],
   "source": [
    "df_test_original.last_new_job.value_counts()"
   ]
  },
  {
   "cell_type": "code",
   "execution_count": 555,
   "id": "7cee289f-84b7-4b90-b11b-1ed3b7301fd9",
   "metadata": {
    "tags": []
   },
   "outputs": [
    {
     "data": {
      "text/html": [
       "<div>\n",
       "<style scoped>\n",
       "    .dataframe tbody tr th:only-of-type {\n",
       "        vertical-align: middle;\n",
       "    }\n",
       "\n",
       "    .dataframe tbody tr th {\n",
       "        vertical-align: top;\n",
       "    }\n",
       "\n",
       "    .dataframe thead th {\n",
       "        text-align: right;\n",
       "    }\n",
       "</style>\n",
       "<table border=\"1\" class=\"dataframe\">\n",
       "  <thead>\n",
       "    <tr style=\"text-align: right;\">\n",
       "      <th></th>\n",
       "      <th>enrollee_id</th>\n",
       "      <th>city_development_index</th>\n",
       "      <th>gender</th>\n",
       "      <th>relevent_experience</th>\n",
       "      <th>enrolled_university</th>\n",
       "      <th>education_level</th>\n",
       "      <th>major_discipline</th>\n",
       "      <th>experience</th>\n",
       "      <th>company_type</th>\n",
       "      <th>last_new_job</th>\n",
       "      <th>training_hours</th>\n",
       "    </tr>\n",
       "  </thead>\n",
       "  <tbody>\n",
       "    <tr>\n",
       "      <th>0</th>\n",
       "      <td>23603</td>\n",
       "      <td>0.92</td>\n",
       "      <td>Male</td>\n",
       "      <td>No relevent experience</td>\n",
       "      <td>Full time course</td>\n",
       "      <td>Graduate</td>\n",
       "      <td>STEM</td>\n",
       "      <td>5.0</td>\n",
       "      <td>NaN</td>\n",
       "      <td>1.0</td>\n",
       "      <td>78</td>\n",
       "    </tr>\n",
       "    <tr>\n",
       "      <th>1</th>\n",
       "      <td>22499</td>\n",
       "      <td>0.89</td>\n",
       "      <td>NaN</td>\n",
       "      <td>Has relevent experience</td>\n",
       "      <td>Full time course</td>\n",
       "      <td>High School</td>\n",
       "      <td>NaN</td>\n",
       "      <td>6.0</td>\n",
       "      <td>Pvt Ltd</td>\n",
       "      <td>1.0</td>\n",
       "      <td>36</td>\n",
       "    </tr>\n",
       "  </tbody>\n",
       "</table>\n",
       "</div>"
      ],
      "text/plain": [
       "   enrollee_id  city_development_index gender      relevent_experience  \\\n",
       "0        23603                    0.92   Male   No relevent experience   \n",
       "1        22499                    0.89    NaN  Has relevent experience   \n",
       "\n",
       "  enrolled_university education_level major_discipline  experience  \\\n",
       "0    Full time course        Graduate             STEM         5.0   \n",
       "1    Full time course     High School              NaN         6.0   \n",
       "\n",
       "  company_type  last_new_job  training_hours  \n",
       "0          NaN           1.0              78  \n",
       "1      Pvt Ltd           1.0              36  "
      ]
     },
     "execution_count": 555,
     "metadata": {},
     "output_type": "execute_result"
    }
   ],
   "source": [
    "df_test_original.head(2)"
   ]
  },
  {
   "cell_type": "code",
   "execution_count": 556,
   "id": "e59b2587-2d14-44c2-b8a2-2e6b5a93bb0f",
   "metadata": {},
   "outputs": [
    {
     "name": "stdout",
     "output_type": "stream",
     "text": [
      "<class 'pandas.core.frame.DataFrame'>\n",
      "RangeIndex: 3832 entries, 0 to 3831\n",
      "Data columns (total 11 columns):\n",
      " #   Column                  Non-Null Count  Dtype  \n",
      "---  ------                  --------------  -----  \n",
      " 0   enrollee_id             3832 non-null   int64  \n",
      " 1   city_development_index  3832 non-null   float64\n",
      " 2   gender                  2925 non-null   object \n",
      " 3   relevent_experience     3832 non-null   object \n",
      " 4   enrolled_university     3748 non-null   object \n",
      " 5   education_level         3741 non-null   object \n",
      " 6   major_discipline        3256 non-null   object \n",
      " 7   experience              3817 non-null   float64\n",
      " 8   company_type            2583 non-null   object \n",
      " 9   last_new_job            3748 non-null   float64\n",
      " 10  training_hours          3832 non-null   int64  \n",
      "dtypes: float64(3), int64(2), object(6)\n",
      "memory usage: 329.4+ KB\n"
     ]
    }
   ],
   "source": [
    "df_test_original.info()"
   ]
  },
  {
   "cell_type": "code",
   "execution_count": 557,
   "id": "ca8b2e4a-9acd-431d-aa86-c504b251144c",
   "metadata": {},
   "outputs": [
    {
     "data": {
      "text/plain": [
       "(3832, 11)"
      ]
     },
     "execution_count": 557,
     "metadata": {},
     "output_type": "execute_result"
    }
   ],
   "source": [
    "df_test_original.shape"
   ]
  },
  {
   "cell_type": "code",
   "execution_count": 558,
   "id": "8020e3b8-9ace-4e7b-9028-fd345b35be5c",
   "metadata": {},
   "outputs": [],
   "source": [
    "data_test_original = pipeline_competencia.transform(df_test_original)"
   ]
  },
  {
   "cell_type": "code",
   "execution_count": 559,
   "id": "3441766d-ad57-47d2-a978-576d8c84f13d",
   "metadata": {},
   "outputs": [
    {
     "data": {
      "text/plain": [
       "(3832, 30)"
      ]
     },
     "execution_count": 559,
     "metadata": {},
     "output_type": "execute_result"
    }
   ],
   "source": [
    "data_test_original.shape"
   ]
  },
  {
   "cell_type": "code",
   "execution_count": 560,
   "id": "8e1719d6-6e7e-44f3-9903-c58ad6ea4133",
   "metadata": {},
   "outputs": [],
   "source": [
    "X_train_transformed = pipeline_competencia.transform(X_train_over)"
   ]
  },
  {
   "cell_type": "code",
   "execution_count": 561,
   "id": "ee293faf-a8eb-43ec-8809-4f03d639d9ad",
   "metadata": {},
   "outputs": [
    {
     "data": {
      "text/html": [
       "<div>\n",
       "<style scoped>\n",
       "    .dataframe tbody tr th:only-of-type {\n",
       "        vertical-align: middle;\n",
       "    }\n",
       "\n",
       "    .dataframe tbody tr th {\n",
       "        vertical-align: top;\n",
       "    }\n",
       "\n",
       "    .dataframe thead th {\n",
       "        text-align: right;\n",
       "    }\n",
       "</style>\n",
       "<table border=\"1\" class=\"dataframe\">\n",
       "  <thead>\n",
       "    <tr style=\"text-align: right;\">\n",
       "      <th></th>\n",
       "      <th>enrollee_id</th>\n",
       "      <th>city_development_index</th>\n",
       "      <th>experience</th>\n",
       "      <th>last_new_job</th>\n",
       "      <th>training_hours</th>\n",
       "      <th>enrolled_university_no_enrollment</th>\n",
       "      <th>enrolled_university_Part time course</th>\n",
       "      <th>enrolled_university_Full time course</th>\n",
       "      <th>education_level_Graduate</th>\n",
       "      <th>education_level_Masters</th>\n",
       "      <th>...</th>\n",
       "      <th>relevent_experience_No relevent experience</th>\n",
       "      <th>gender_Male</th>\n",
       "      <th>gender_Female</th>\n",
       "      <th>gender_Other</th>\n",
       "      <th>company_type_Funded Startup</th>\n",
       "      <th>company_type_Public Sector</th>\n",
       "      <th>company_type_Early Stage Startup</th>\n",
       "      <th>company_type_Pvt Ltd</th>\n",
       "      <th>company_type_NGO</th>\n",
       "      <th>company_type_Other</th>\n",
       "    </tr>\n",
       "  </thead>\n",
       "  <tbody>\n",
       "    <tr>\n",
       "      <th>0</th>\n",
       "      <td>6514</td>\n",
       "      <td>0.920</td>\n",
       "      <td>0.573054</td>\n",
       "      <td>-0.573201</td>\n",
       "      <td>-0.783949</td>\n",
       "      <td>1</td>\n",
       "      <td>0</td>\n",
       "      <td>0</td>\n",
       "      <td>1</td>\n",
       "      <td>0</td>\n",
       "      <td>...</td>\n",
       "      <td>0</td>\n",
       "      <td>1</td>\n",
       "      <td>0</td>\n",
       "      <td>0</td>\n",
       "      <td>1</td>\n",
       "      <td>0</td>\n",
       "      <td>0</td>\n",
       "      <td>0</td>\n",
       "      <td>0</td>\n",
       "      <td>0</td>\n",
       "    </tr>\n",
       "    <tr>\n",
       "      <th>1</th>\n",
       "      <td>25301</td>\n",
       "      <td>0.897</td>\n",
       "      <td>-0.973164</td>\n",
       "      <td>0.652948</td>\n",
       "      <td>1.539404</td>\n",
       "      <td>0</td>\n",
       "      <td>1</td>\n",
       "      <td>0</td>\n",
       "      <td>0</td>\n",
       "      <td>1</td>\n",
       "      <td>...</td>\n",
       "      <td>1</td>\n",
       "      <td>1</td>\n",
       "      <td>0</td>\n",
       "      <td>0</td>\n",
       "      <td>0</td>\n",
       "      <td>1</td>\n",
       "      <td>0</td>\n",
       "      <td>0</td>\n",
       "      <td>0</td>\n",
       "      <td>0</td>\n",
       "    </tr>\n",
       "    <tr>\n",
       "      <th>2</th>\n",
       "      <td>20765</td>\n",
       "      <td>0.920</td>\n",
       "      <td>-1.127786</td>\n",
       "      <td>-0.573201</td>\n",
       "      <td>-0.885702</td>\n",
       "      <td>1</td>\n",
       "      <td>0</td>\n",
       "      <td>0</td>\n",
       "      <td>0</td>\n",
       "      <td>0</td>\n",
       "      <td>...</td>\n",
       "      <td>1</td>\n",
       "      <td>1</td>\n",
       "      <td>0</td>\n",
       "      <td>0</td>\n",
       "      <td>0</td>\n",
       "      <td>0</td>\n",
       "      <td>1</td>\n",
       "      <td>0</td>\n",
       "      <td>0</td>\n",
       "      <td>0</td>\n",
       "    </tr>\n",
       "    <tr>\n",
       "      <th>3</th>\n",
       "      <td>2121</td>\n",
       "      <td>0.893</td>\n",
       "      <td>0.418432</td>\n",
       "      <td>-0.573201</td>\n",
       "      <td>-0.393897</td>\n",
       "      <td>1</td>\n",
       "      <td>0</td>\n",
       "      <td>0</td>\n",
       "      <td>0</td>\n",
       "      <td>1</td>\n",
       "      <td>...</td>\n",
       "      <td>0</td>\n",
       "      <td>1</td>\n",
       "      <td>0</td>\n",
       "      <td>0</td>\n",
       "      <td>0</td>\n",
       "      <td>0</td>\n",
       "      <td>0</td>\n",
       "      <td>1</td>\n",
       "      <td>0</td>\n",
       "      <td>0</td>\n",
       "    </tr>\n",
       "    <tr>\n",
       "      <th>4</th>\n",
       "      <td>14417</td>\n",
       "      <td>0.920</td>\n",
       "      <td>1.655406</td>\n",
       "      <td>1.266022</td>\n",
       "      <td>0.114867</td>\n",
       "      <td>1</td>\n",
       "      <td>0</td>\n",
       "      <td>0</td>\n",
       "      <td>1</td>\n",
       "      <td>0</td>\n",
       "      <td>...</td>\n",
       "      <td>0</td>\n",
       "      <td>1</td>\n",
       "      <td>0</td>\n",
       "      <td>0</td>\n",
       "      <td>0</td>\n",
       "      <td>0</td>\n",
       "      <td>0</td>\n",
       "      <td>1</td>\n",
       "      <td>0</td>\n",
       "      <td>0</td>\n",
       "    </tr>\n",
       "  </tbody>\n",
       "</table>\n",
       "<p>5 rows × 30 columns</p>\n",
       "</div>"
      ],
      "text/plain": [
       "   enrollee_id  city_development_index  experience  last_new_job  \\\n",
       "0         6514                   0.920    0.573054     -0.573201   \n",
       "1        25301                   0.897   -0.973164      0.652948   \n",
       "2        20765                   0.920   -1.127786     -0.573201   \n",
       "3         2121                   0.893    0.418432     -0.573201   \n",
       "4        14417                   0.920    1.655406      1.266022   \n",
       "\n",
       "   training_hours  enrolled_university_no_enrollment  \\\n",
       "0       -0.783949                                  1   \n",
       "1        1.539404                                  0   \n",
       "2       -0.885702                                  1   \n",
       "3       -0.393897                                  1   \n",
       "4        0.114867                                  1   \n",
       "\n",
       "   enrolled_university_Part time course  enrolled_university_Full time course  \\\n",
       "0                                     0                                     0   \n",
       "1                                     1                                     0   \n",
       "2                                     0                                     0   \n",
       "3                                     0                                     0   \n",
       "4                                     0                                     0   \n",
       "\n",
       "   education_level_Graduate  education_level_Masters  ...  \\\n",
       "0                         1                        0  ...   \n",
       "1                         0                        1  ...   \n",
       "2                         0                        0  ...   \n",
       "3                         0                        1  ...   \n",
       "4                         1                        0  ...   \n",
       "\n",
       "   relevent_experience_No relevent experience  gender_Male  gender_Female  \\\n",
       "0                                           0            1              0   \n",
       "1                                           1            1              0   \n",
       "2                                           1            1              0   \n",
       "3                                           0            1              0   \n",
       "4                                           0            1              0   \n",
       "\n",
       "   gender_Other  company_type_Funded Startup  company_type_Public Sector  \\\n",
       "0             0                            1                           0   \n",
       "1             0                            0                           1   \n",
       "2             0                            0                           0   \n",
       "3             0                            0                           0   \n",
       "4             0                            0                           0   \n",
       "\n",
       "   company_type_Early Stage Startup  company_type_Pvt Ltd  company_type_NGO  \\\n",
       "0                                 0                     0                 0   \n",
       "1                                 0                     0                 0   \n",
       "2                                 1                     0                 0   \n",
       "3                                 0                     1                 0   \n",
       "4                                 0                     1                 0   \n",
       "\n",
       "   company_type_Other  \n",
       "0                   0  \n",
       "1                   0  \n",
       "2                   0  \n",
       "3                   0  \n",
       "4                   0  \n",
       "\n",
       "[5 rows x 30 columns]"
      ]
     },
     "execution_count": 561,
     "metadata": {},
     "output_type": "execute_result"
    }
   ],
   "source": [
    "X_train_transformed.head()"
   ]
  },
  {
   "cell_type": "code",
   "execution_count": 562,
   "id": "d63a58fa-c291-4e10-a3c5-889ae9402fdf",
   "metadata": {},
   "outputs": [
    {
     "data": {
      "text/plain": [
       "(6078, 30)"
      ]
     },
     "execution_count": 562,
     "metadata": {},
     "output_type": "execute_result"
    }
   ],
   "source": [
    "X_train_transformed.shape"
   ]
  },
  {
   "cell_type": "code",
   "execution_count": 563,
   "id": "1214fb8c-76b9-4be1-bd96-9b42be1413b5",
   "metadata": {},
   "outputs": [
    {
     "data": {
      "text/html": [
       "<div>\n",
       "<style scoped>\n",
       "    .dataframe tbody tr th:only-of-type {\n",
       "        vertical-align: middle;\n",
       "    }\n",
       "\n",
       "    .dataframe tbody tr th {\n",
       "        vertical-align: top;\n",
       "    }\n",
       "\n",
       "    .dataframe thead th {\n",
       "        text-align: right;\n",
       "    }\n",
       "</style>\n",
       "<table border=\"1\" class=\"dataframe\">\n",
       "  <thead>\n",
       "    <tr style=\"text-align: right;\">\n",
       "      <th></th>\n",
       "      <th>enrollee_id</th>\n",
       "      <th>city_development_index</th>\n",
       "      <th>gender</th>\n",
       "      <th>relevent_experience</th>\n",
       "      <th>enrolled_university</th>\n",
       "      <th>education_level</th>\n",
       "      <th>major_discipline</th>\n",
       "      <th>experience</th>\n",
       "      <th>company_type</th>\n",
       "      <th>last_new_job</th>\n",
       "      <th>training_hours</th>\n",
       "    </tr>\n",
       "  </thead>\n",
       "  <tbody>\n",
       "    <tr>\n",
       "      <th>0</th>\n",
       "      <td>6514</td>\n",
       "      <td>0.920</td>\n",
       "      <td>Male</td>\n",
       "      <td>Has relevent experience</td>\n",
       "      <td>no_enrollment</td>\n",
       "      <td>Graduate</td>\n",
       "      <td>STEM</td>\n",
       "      <td>13.0</td>\n",
       "      <td>Funded Startup</td>\n",
       "      <td>1.0</td>\n",
       "      <td>19</td>\n",
       "    </tr>\n",
       "    <tr>\n",
       "      <th>1</th>\n",
       "      <td>25301</td>\n",
       "      <td>0.897</td>\n",
       "      <td>Male</td>\n",
       "      <td>No relevent experience</td>\n",
       "      <td>Part time course</td>\n",
       "      <td>Masters</td>\n",
       "      <td>STEM</td>\n",
       "      <td>3.0</td>\n",
       "      <td>Public Sector</td>\n",
       "      <td>3.0</td>\n",
       "      <td>156</td>\n",
       "    </tr>\n",
       "    <tr>\n",
       "      <th>2</th>\n",
       "      <td>20765</td>\n",
       "      <td>0.920</td>\n",
       "      <td>NaN</td>\n",
       "      <td>No relevent experience</td>\n",
       "      <td>no_enrollment</td>\n",
       "      <td>Primary School</td>\n",
       "      <td>NaN</td>\n",
       "      <td>2.0</td>\n",
       "      <td>Early Stage Startup</td>\n",
       "      <td>1.0</td>\n",
       "      <td>13</td>\n",
       "    </tr>\n",
       "    <tr>\n",
       "      <th>3</th>\n",
       "      <td>2121</td>\n",
       "      <td>0.893</td>\n",
       "      <td>Male</td>\n",
       "      <td>Has relevent experience</td>\n",
       "      <td>no_enrollment</td>\n",
       "      <td>Masters</td>\n",
       "      <td>STEM</td>\n",
       "      <td>12.0</td>\n",
       "      <td>Pvt Ltd</td>\n",
       "      <td>1.0</td>\n",
       "      <td>42</td>\n",
       "    </tr>\n",
       "    <tr>\n",
       "      <th>4</th>\n",
       "      <td>14417</td>\n",
       "      <td>0.920</td>\n",
       "      <td>Male</td>\n",
       "      <td>Has relevent experience</td>\n",
       "      <td>no_enrollment</td>\n",
       "      <td>Graduate</td>\n",
       "      <td>Arts</td>\n",
       "      <td>20.0</td>\n",
       "      <td>Pvt Ltd</td>\n",
       "      <td>4.0</td>\n",
       "      <td>72</td>\n",
       "    </tr>\n",
       "  </tbody>\n",
       "</table>\n",
       "</div>"
      ],
      "text/plain": [
       "   enrollee_id  city_development_index gender      relevent_experience  \\\n",
       "0         6514                   0.920   Male  Has relevent experience   \n",
       "1        25301                   0.897   Male   No relevent experience   \n",
       "2        20765                   0.920    NaN   No relevent experience   \n",
       "3         2121                   0.893   Male  Has relevent experience   \n",
       "4        14417                   0.920   Male  Has relevent experience   \n",
       "\n",
       "  enrolled_university education_level major_discipline  experience  \\\n",
       "0       no_enrollment        Graduate             STEM        13.0   \n",
       "1    Part time course         Masters             STEM         3.0   \n",
       "2       no_enrollment  Primary School              NaN         2.0   \n",
       "3       no_enrollment         Masters             STEM        12.0   \n",
       "4       no_enrollment        Graduate             Arts        20.0   \n",
       "\n",
       "          company_type  last_new_job  training_hours  \n",
       "0       Funded Startup           1.0              19  \n",
       "1        Public Sector           3.0             156  \n",
       "2  Early Stage Startup           1.0              13  \n",
       "3              Pvt Ltd           1.0              42  \n",
       "4              Pvt Ltd           4.0              72  "
      ]
     },
     "execution_count": 563,
     "metadata": {},
     "output_type": "execute_result"
    }
   ],
   "source": [
    "X_train_over.head()"
   ]
  },
  {
   "cell_type": "code",
   "execution_count": 564,
   "id": "d630e59f-c9d8-4d75-a695-648124e7ce9d",
   "metadata": {},
   "outputs": [
    {
     "data": {
      "text/plain": [
       "Index(['enrollee_id', 'city_development_index', 'experience', 'last_new_job',\n",
       "       'training_hours', 'enrolled_university_no_enrollment',\n",
       "       'enrolled_university_Part time course',\n",
       "       'enrolled_university_Full time course', 'education_level_Graduate',\n",
       "       'education_level_Masters', 'education_level_Primary School',\n",
       "       'education_level_High School', 'education_level_Phd',\n",
       "       'major_discipline_STEM', 'major_discipline_Arts',\n",
       "       'major_discipline_No Major', 'major_discipline_Business Degree',\n",
       "       'major_discipline_Humanities', 'major_discipline_Other',\n",
       "       'relevent_experience_Has relevent experience',\n",
       "       'relevent_experience_No relevent experience', 'gender_Male',\n",
       "       'gender_Female', 'gender_Other', 'company_type_Funded Startup',\n",
       "       'company_type_Public Sector', 'company_type_Early Stage Startup',\n",
       "       'company_type_Pvt Ltd', 'company_type_NGO', 'company_type_Other'],\n",
       "      dtype='object')"
      ]
     },
     "execution_count": 564,
     "metadata": {},
     "output_type": "execute_result"
    }
   ],
   "source": [
    "X_train_transformed.columns"
   ]
  },
  {
   "cell_type": "code",
   "execution_count": 565,
   "id": "8670c039-a079-433a-8a85-2d3bef3c1433",
   "metadata": {},
   "outputs": [],
   "source": [
    "decision_tree = DecisionTreeClassifier()\n",
    "params = {'splitter':['random', 'best'], 'max_depth' : [15, 20, 25], 'random_state':[525]}\n",
    "cvtree = GridSearchCV(decision_tree, params).fit(X_train_transformed, y_train_over)"
   ]
  },
  {
   "cell_type": "code",
   "execution_count": 566,
   "id": "36536ff3-c8d4-4135-b73c-a9b4c05e3878",
   "metadata": {},
   "outputs": [
    {
     "data": {
      "text/plain": [
       "DecisionTreeClassifier(max_depth=15, random_state=525, splitter='random')"
      ]
     },
     "execution_count": 566,
     "metadata": {},
     "output_type": "execute_result"
    }
   ],
   "source": [
    "cvtree.best_estimator_"
   ]
  },
  {
   "cell_type": "code",
   "execution_count": 567,
   "id": "781bf6df-35d3-4bd2-ae49-ff5517754e6b",
   "metadata": {},
   "outputs": [],
   "source": [
    "#DecisionTreeClassifier(max_depth=15, random_state=525)\n",
    "#DecisionTreeClassifier(max_depth=25, random_state=525)"
   ]
  },
  {
   "cell_type": "code",
   "execution_count": 568,
   "id": "4cbf728e-8a66-4546-8d4d-4010e5227d26",
   "metadata": {},
   "outputs": [],
   "source": [
    "tree_classifier = DecisionTreeClassifier( max_depth = 15, random_state=525).fit(X_train_transformed, y_train_over)"
   ]
  },
  {
   "cell_type": "code",
   "execution_count": 569,
   "id": "7fbfa6cb-5802-47fe-9de2-05ce28ea7613",
   "metadata": {},
   "outputs": [
    {
     "data": {
      "text/plain": [
       "array([0.2108048 , 0.30759912, 0.09295252, 0.0439674 , 0.15745257,\n",
       "       0.01807556, 0.00393069, 0.00965594, 0.02139235, 0.00472171,\n",
       "       0.        , 0.00531292, 0.00473055, 0.00840814, 0.00663766,\n",
       "       0.00440736, 0.00564492, 0.00644689, 0.00439848, 0.03937997,\n",
       "       0.00073641, 0.0033311 , 0.00596551, 0.0016368 , 0.00405906,\n",
       "       0.00380131, 0.00472301, 0.01082639, 0.00752311, 0.00147775])"
      ]
     },
     "execution_count": 569,
     "metadata": {},
     "output_type": "execute_result"
    }
   ],
   "source": [
    "tree_classifier.feature_importances_"
   ]
  },
  {
   "cell_type": "code",
   "execution_count": 570,
   "id": "3753eccc-3cc9-413c-833f-9e289e8a8c56",
   "metadata": {},
   "outputs": [
    {
     "data": {
      "text/plain": [
       "array(['enrollee_id', 'city_development_index', 'experience',\n",
       "       'last_new_job', 'training_hours',\n",
       "       'enrolled_university_no_enrollment',\n",
       "       'enrolled_university_Part time course',\n",
       "       'enrolled_university_Full time course', 'education_level_Graduate',\n",
       "       'education_level_Masters', 'education_level_Primary School',\n",
       "       'education_level_High School', 'education_level_Phd',\n",
       "       'major_discipline_STEM', 'major_discipline_Arts',\n",
       "       'major_discipline_No Major', 'major_discipline_Business Degree',\n",
       "       'major_discipline_Humanities', 'major_discipline_Other',\n",
       "       'relevent_experience_Has relevent experience',\n",
       "       'relevent_experience_No relevent experience', 'gender_Male',\n",
       "       'gender_Female', 'gender_Other', 'company_type_Funded Startup',\n",
       "       'company_type_Public Sector', 'company_type_Early Stage Startup',\n",
       "       'company_type_Pvt Ltd', 'company_type_NGO', 'company_type_Other'],\n",
       "      dtype=object)"
      ]
     },
     "execution_count": 570,
     "metadata": {},
     "output_type": "execute_result"
    }
   ],
   "source": [
    "tree_classifier.feature_names_in_"
   ]
  },
  {
   "cell_type": "code",
   "execution_count": 571,
   "id": "09d4e818-74f0-4f15-8f71-0dad51ab2552",
   "metadata": {},
   "outputs": [],
   "source": [
    "#importancia = pd.DataFrame(tree_classifier.feature_names_in_)\n",
    "#importancia"
   ]
  },
  {
   "cell_type": "code",
   "execution_count": 572,
   "id": "a9095ad7-b037-4349-8787-a24b0b0d9da5",
   "metadata": {},
   "outputs": [],
   "source": [
    "#importancia['Peso'] = tree_classifier.feature_importances_\n",
    "#importancia"
   ]
  },
  {
   "cell_type": "code",
   "execution_count": 573,
   "id": "078eb33b-9aad-4604-9945-2f3cc8299258",
   "metadata": {},
   "outputs": [
    {
     "name": "stderr",
     "output_type": "stream",
     "text": [
      "C:\\Users\\tllt1\\anaconda3\\lib\\site-packages\\sklearn\\utils\\deprecation.py:87: FutureWarning: Function plot_confusion_matrix is deprecated; Function `plot_confusion_matrix` is deprecated in 1.0 and will be removed in 1.2. Use one of the class methods: ConfusionMatrixDisplay.from_predictions or ConfusionMatrixDisplay.from_estimator.\n",
      "  warnings.warn(msg, category=FutureWarning)\n"
     ]
    },
    {
     "data": {
      "text/plain": [
       "<sklearn.metrics._plot.confusion_matrix.ConfusionMatrixDisplay at 0x226e1b12700>"
      ]
     },
     "execution_count": 573,
     "metadata": {},
     "output_type": "execute_result"
    },
    {
     "data": {
      "image/png": "[encoded data removed]",
      "text/plain": [
       "<Figure size 432x288 with 2 Axes>"
      ]
     },
     "metadata": {
      "needs_background": "light"
     },
     "output_type": "display_data"
    }
   ],
   "source": [
    "metrics.plot_confusion_matrix(tree_classifier, X_train_transformed, y_train_over)"
   ]
  },
  {
   "cell_type": "code",
   "execution_count": 574,
   "id": "4a2f460b-87b0-42e3-b76d-5e39a59a4464",
   "metadata": {},
   "outputs": [
    {
     "data": {
      "text/plain": [
       "array([0., 0., 0., ..., 1., 1., 0.])"
      ]
     },
     "execution_count": 574,
     "metadata": {},
     "output_type": "execute_result"
    }
   ],
   "source": [
    "pred_train = tree_classifier.predict(X_train_transformed)\n",
    "pred_train"
   ]
  },
  {
   "cell_type": "code",
   "execution_count": 575,
   "id": "0c698f7a-541b-49ca-b34f-4e0d52722473",
   "metadata": {},
   "outputs": [
    {
     "data": {
      "text/plain": [
       "array([[1.        , 0.        ],\n",
       "       [1.        , 0.        ],\n",
       "       [1.        , 0.        ],\n",
       "       ...,\n",
       "       [0.        , 1.        ],\n",
       "       [0.        , 1.        ],\n",
       "       [0.89655172, 0.10344828]])"
      ]
     },
     "execution_count": 575,
     "metadata": {},
     "output_type": "execute_result"
    }
   ],
   "source": [
    "pred_train_probas = tree_classifier.predict_proba(X_train_transformed)\n",
    "pred_train_probas"
   ]
  },
  {
   "cell_type": "code",
   "execution_count": 576,
   "id": "df7c0b8e-2a8c-4639-a46f-8f5cbfe1e1ec",
   "metadata": {},
   "outputs": [
    {
     "data": {
      "text/plain": [
       "0.8813754524514641"
      ]
     },
     "execution_count": 576,
     "metadata": {},
     "output_type": "execute_result"
    }
   ],
   "source": [
    "metrics.roc_auc_score(y_train_over, pred_train)"
   ]
  },
  {
   "cell_type": "code",
   "execution_count": 577,
   "id": "c1fbcb2a-a231-4676-bd07-8a9e2047b967",
   "metadata": {},
   "outputs": [
    {
     "data": {
      "text/plain": [
       "0.958282158635122"
      ]
     },
     "execution_count": 577,
     "metadata": {},
     "output_type": "execute_result"
    }
   ],
   "source": [
    "metrics.roc_auc_score(y_train_over, pred_train_probas[:,1])"
   ]
  },
  {
   "cell_type": "code",
   "execution_count": 578,
   "id": "fc73da33-7a89-4f03-9753-3ac6e40c7194",
   "metadata": {},
   "outputs": [],
   "source": [
    "from sklearn.ensemble import RandomForestClassifier"
   ]
  },
  {
   "cell_type": "code",
   "execution_count": 673,
   "id": "6f9b5407-06eb-4471-8e22-901f30975fbe",
   "metadata": {},
   "outputs": [],
   "source": [
    "forest = RandomForestClassifier()\n",
    "params = {'max_depth': [10, 30, 35], 'n_estimators':[50, 60, 70]}\n",
    "grid_forest = GridSearchCV(forest, params).fit(X_train_transformed, y_train_over)"
   ]
  },
  {
   "cell_type": "code",
   "execution_count": 674,
   "id": "43287db5-1c08-4d3a-94c4-4fdafeaf4be5",
   "metadata": {},
   "outputs": [
    {
     "data": {
      "text/plain": [
       "RandomForestClassifier(max_depth=10, n_estimators=60)"
      ]
     },
     "execution_count": 674,
     "metadata": {},
     "output_type": "execute_result"
    }
   ],
   "source": [
    "grid_forest.best_estimator_"
   ]
  },
  {
   "cell_type": "code",
   "execution_count": 753,
   "id": "89c5f3d3-fae5-4810-9e51-dc5a98933d85",
   "metadata": {},
   "outputs": [],
   "source": [
    "best_forest = RandomForestClassifier(max_depth=10, n_estimators=50).fit(X_train_transformed, y_train_over)"
   ]
  },
  {
   "cell_type": "code",
   "execution_count": 754,
   "id": "c0c6b07a-2087-4dda-a5ea-d36dcc27249d",
   "metadata": {},
   "outputs": [
    {
     "name": "stderr",
     "output_type": "stream",
     "text": [
      "C:\\Users\\tllt1\\anaconda3\\lib\\site-packages\\sklearn\\utils\\deprecation.py:87: FutureWarning: Function plot_confusion_matrix is deprecated; Function `plot_confusion_matrix` is deprecated in 1.0 and will be removed in 1.2. Use one of the class methods: ConfusionMatrixDisplay.from_predictions or ConfusionMatrixDisplay.from_estimator.\n",
      "  warnings.warn(msg, category=FutureWarning)\n"
     ]
    },
    {
     "data": {
      "text/plain": [
       "<sklearn.metrics._plot.confusion_matrix.ConfusionMatrixDisplay at 0x226e224a970>"
      ]
     },
     "execution_count": 754,
     "metadata": {},
     "output_type": "execute_result"
    },
    {
     "data": {
      "image/png": "[encoded data removed]",
      "text/plain": [
       "<Figure size 432x288 with 2 Axes>"
      ]
     },
     "metadata": {
      "needs_background": "light"
     },
     "output_type": "display_data"
    }
   ],
   "source": [
    "metrics.plot_confusion_matrix(best_forest, X_train_transformed, y_train_over)"
   ]
  },
  {
   "cell_type": "code",
   "execution_count": 755,
   "id": "50a6f1f8-8ce9-4201-8b45-ea9e22a7b847",
   "metadata": {},
   "outputs": [
    {
     "data": {
      "text/plain": [
       "array([0., 0., 0., ..., 1., 1., 0.])"
      ]
     },
     "execution_count": 755,
     "metadata": {},
     "output_type": "execute_result"
    }
   ],
   "source": [
    "pred_train_forest = best_forest.predict(X_train_transformed)\n",
    "pred_train_forest"
   ]
  },
  {
   "cell_type": "code",
   "execution_count": 756,
   "id": "ac894bd9-a1e8-40cf-9057-b2a05a0648dc",
   "metadata": {},
   "outputs": [
    {
     "data": {
      "text/plain": [
       "(6078, 30)"
      ]
     },
     "execution_count": 756,
     "metadata": {},
     "output_type": "execute_result"
    }
   ],
   "source": [
    "X_train_transformed.shape\n"
   ]
  },
  {
   "cell_type": "code",
   "execution_count": 757,
   "id": "36d4199e-0ae8-4091-a285-b02776e52138",
   "metadata": {},
   "outputs": [
    {
     "data": {
      "text/plain": [
       "(6078,)"
      ]
     },
     "execution_count": 757,
     "metadata": {},
     "output_type": "execute_result"
    }
   ],
   "source": [
    "y_train_over.shape"
   ]
  },
  {
   "cell_type": "code",
   "execution_count": 758,
   "id": "5aa700a6-31fd-4d8d-b6b6-366bf6f007b2",
   "metadata": {},
   "outputs": [
    {
     "data": {
      "text/plain": [
       "array([[0.74741226, 0.25258774],\n",
       "       [0.64593808, 0.35406192],\n",
       "       [0.74434212, 0.25565788],\n",
       "       ...,\n",
       "       [0.17744976, 0.82255024],\n",
       "       [0.16347238, 0.83652762],\n",
       "       [0.63489406, 0.36510594]])"
      ]
     },
     "execution_count": 758,
     "metadata": {},
     "output_type": "execute_result"
    }
   ],
   "source": [
    "pred_train_forest_probas = best_forest.predict_proba(X_train_transformed)\n",
    "pred_train_forest_probas"
   ]
  },
  {
   "cell_type": "code",
   "execution_count": 759,
   "id": "538d3a13-dc5b-4447-a53b-4561a6dd9876",
   "metadata": {},
   "outputs": [
    {
     "data": {
      "text/plain": [
       "(6078, 2)"
      ]
     },
     "execution_count": 759,
     "metadata": {},
     "output_type": "execute_result"
    }
   ],
   "source": [
    "pred_train_forest_probas.shape"
   ]
  },
  {
   "cell_type": "code",
   "execution_count": 760,
   "id": "3783ec22-b187-4e90-893f-ac9a37f38e72",
   "metadata": {},
   "outputs": [
    {
     "data": {
      "text/plain": [
       "0.7727871010200724"
      ]
     },
     "execution_count": 760,
     "metadata": {},
     "output_type": "execute_result"
    }
   ],
   "source": [
    "metrics.roc_auc_score(y_train_over, pred_train_forest)"
   ]
  },
  {
   "cell_type": "code",
   "execution_count": 761,
   "id": "af253d6c-eacb-4bab-be78-24efd74c9ecb",
   "metadata": {},
   "outputs": [
    {
     "data": {
      "text/plain": [
       "0.8704985890888017"
      ]
     },
     "execution_count": 761,
     "metadata": {},
     "output_type": "execute_result"
    }
   ],
   "source": [
    "metrics.roc_auc_score(y_train_over, pred_train_forest_probas[:,1])"
   ]
  },
  {
   "cell_type": "code",
   "execution_count": 762,
   "id": "eb6a5da6-7c2a-4750-8c6c-940dd37aa544",
   "metadata": {},
   "outputs": [],
   "source": [
    "data_test = pipeline_competencia.transform(X_test)"
   ]
  },
  {
   "cell_type": "code",
   "execution_count": 763,
   "id": "801d5404-6864-4be0-be54-acc182c91cc1",
   "metadata": {},
   "outputs": [
    {
     "data": {
      "text/plain": [
       "(3066, 11)"
      ]
     },
     "execution_count": 763,
     "metadata": {},
     "output_type": "execute_result"
    }
   ],
   "source": [
    "X_test.shape"
   ]
  },
  {
   "cell_type": "code",
   "execution_count": 764,
   "id": "bf567b85-e8ca-4bad-b0b1-1ba33e1f8eae",
   "metadata": {},
   "outputs": [],
   "source": [
    "pred_data_test = best_forest.predict(data_test)"
   ]
  },
  {
   "cell_type": "code",
   "execution_count": 765,
   "id": "cf5e4b5f-9d30-468a-9888-bab3d3b83172",
   "metadata": {},
   "outputs": [
    {
     "data": {
      "text/plain": [
       "0.7143422401058872"
      ]
     },
     "execution_count": 765,
     "metadata": {},
     "output_type": "execute_result"
    }
   ],
   "source": [
    "metrics.roc_auc_score(y_test, pred_data_test)"
   ]
  },
  {
   "cell_type": "markdown",
   "id": "965774f0-3a63-44ba-a59d-e79f64d54b3c",
   "metadata": {},
   "source": [
    "ADABOOST"
   ]
  },
  {
   "cell_type": "code",
   "execution_count": 777,
   "id": "a56a9df6-f2a4-4120-b58d-a40096f9b72c",
   "metadata": {},
   "outputs": [],
   "source": [
    "from sklearn.ensemble import AdaBoostClassifier"
   ]
  },
  {
   "cell_type": "code",
   "execution_count": 894,
   "id": "7b71c19a-f8ff-4005-9478-ad7e6368f006",
   "metadata": {},
   "outputs": [],
   "source": [
    "clf = AdaBoostClassifier()\n",
    "params = {'n_estimators':[70, 90, 120]}\n",
    "boost = GridSearchCV(clf, params).fit(X_train_transformed, y_train_over)"
   ]
  },
  {
   "cell_type": "code",
   "execution_count": 895,
   "id": "824abad0-4cc1-4b36-8162-40f031d75dfd",
   "metadata": {},
   "outputs": [
    {
     "data": {
      "text/plain": [
       "AdaBoostClassifier(n_estimators=70)"
      ]
     },
     "execution_count": 895,
     "metadata": {},
     "output_type": "execute_result"
    }
   ],
   "source": [
    "boost.best_estimator_"
   ]
  },
  {
   "cell_type": "code",
   "execution_count": 896,
   "id": "670c5eec-f9e3-405b-a379-71891cdf8bc3",
   "metadata": {},
   "outputs": [],
   "source": [
    "best_boost = AdaBoostClassifier(n_estimators=70, random_state = 525).fit(X_train_transformed, y_train_over)"
   ]
  },
  {
   "cell_type": "code",
   "execution_count": 897,
   "id": "abbd9cd3-5050-45a2-b32a-ec59f3373796",
   "metadata": {},
   "outputs": [
    {
     "name": "stderr",
     "output_type": "stream",
     "text": [
      "C:\\Users\\tllt1\\anaconda3\\lib\\site-packages\\sklearn\\utils\\deprecation.py:87: FutureWarning: Function plot_confusion_matrix is deprecated; Function `plot_confusion_matrix` is deprecated in 1.0 and will be removed in 1.2. Use one of the class methods: ConfusionMatrixDisplay.from_predictions or ConfusionMatrixDisplay.from_estimator.\n",
      "  warnings.warn(msg, category=FutureWarning)\n"
     ]
    },
    {
     "data": {
      "text/plain": [
       "<sklearn.metrics._plot.confusion_matrix.ConfusionMatrixDisplay at 0x226def044f0>"
      ]
     },
     "execution_count": 897,
     "metadata": {},
     "output_type": "execute_result"
    },
    {
     "data": {
      "image/png": "[encoded data removed]",
      "text/plain": [
       "<Figure size 432x288 with 2 Axes>"
      ]
     },
     "metadata": {
      "needs_background": "light"
     },
     "output_type": "display_data"
    }
   ],
   "source": [
    "metrics.plot_confusion_matrix(best_boost, X_train_transformed, y_train_over)"
   ]
  },
  {
   "cell_type": "code",
   "execution_count": 898,
   "id": "33a95906-5dec-4e1e-be78-97e902b8c253",
   "metadata": {},
   "outputs": [
    {
     "data": {
      "text/plain": [
       "array([0., 0., 0., ..., 1., 1., 0.])"
      ]
     },
     "execution_count": 898,
     "metadata": {},
     "output_type": "execute_result"
    }
   ],
   "source": [
    "pred_train_boost = best_boost.predict(X_train_transformed)\n",
    "pred_train_boost"
   ]
  },
  {
   "cell_type": "code",
   "execution_count": 899,
   "id": "faf1954d-0547-418f-871d-58d7449c6e29",
   "metadata": {},
   "outputs": [
    {
     "data": {
      "text/plain": [
       "array([[0.50434347, 0.49565653],\n",
       "       [0.50135952, 0.49864048],\n",
       "       [0.50381088, 0.49618912],\n",
       "       ...,\n",
       "       [0.49662078, 0.50337922],\n",
       "       [0.49431121, 0.50568879],\n",
       "       [0.50307739, 0.49692261]])"
      ]
     },
     "execution_count": 899,
     "metadata": {},
     "output_type": "execute_result"
    }
   ],
   "source": [
    "pred_train_boost_probas = best_boost.predict_proba(X_train_transformed)\n",
    "pred_train_boost_probas"
   ]
  },
  {
   "cell_type": "code",
   "execution_count": 900,
   "id": "48419e31-c813-403b-a523-33f5855a1953",
   "metadata": {},
   "outputs": [
    {
     "data": {
      "text/plain": [
       "(6078, 30)"
      ]
     },
     "execution_count": 900,
     "metadata": {},
     "output_type": "execute_result"
    }
   ],
   "source": [
    "X_train_transformed.shape"
   ]
  },
  {
   "cell_type": "code",
   "execution_count": 901,
   "id": "053a90fa-fb1b-43f9-b450-d06e5d0d8bc5",
   "metadata": {},
   "outputs": [
    {
     "data": {
      "text/plain": [
       "(6078,)"
      ]
     },
     "execution_count": 901,
     "metadata": {},
     "output_type": "execute_result"
    }
   ],
   "source": [
    "y_train_over.shape"
   ]
  },
  {
   "cell_type": "code",
   "execution_count": 902,
   "id": "46d7fa2c-cf81-4c47-bd15-fd91066d4c11",
   "metadata": {},
   "outputs": [
    {
     "data": {
      "text/plain": [
       "0.7170121750575849"
      ]
     },
     "execution_count": 902,
     "metadata": {},
     "output_type": "execute_result"
    }
   ],
   "source": [
    "metrics.roc_auc_score(y_train_over, pred_train_boost)"
   ]
  },
  {
   "cell_type": "code",
   "execution_count": 903,
   "id": "bcc3cbf5-dff3-46fc-8492-3ce73bd2ee5f",
   "metadata": {},
   "outputs": [
    {
     "data": {
      "text/plain": [
       "0.7791818674874974"
      ]
     },
     "execution_count": 903,
     "metadata": {},
     "output_type": "execute_result"
    }
   ],
   "source": [
    "metrics.roc_auc_score(y_train_over, pred_train_boost_probas[:,1])"
   ]
  },
  {
   "cell_type": "code",
   "execution_count": 904,
   "id": "e6d211eb-6f4f-4e24-ba03-1fa71aeb1440",
   "metadata": {},
   "outputs": [],
   "source": [
    "data_test = pipeline_competencia.transform(X_test)"
   ]
  },
  {
   "cell_type": "code",
   "execution_count": 905,
   "id": "a1162ec5-4b32-4122-a699-686d303d80b2",
   "metadata": {},
   "outputs": [
    {
     "data": {
      "text/plain": [
       "(3066, 11)"
      ]
     },
     "execution_count": 905,
     "metadata": {},
     "output_type": "execute_result"
    }
   ],
   "source": [
    "X_test.shape"
   ]
  },
  {
   "cell_type": "code",
   "execution_count": 906,
   "id": "9cbb5cfe-5d49-4d7e-a91f-35e414213d26",
   "metadata": {},
   "outputs": [],
   "source": [
    "pred_data_test = best_boost.predict(data_test)"
   ]
  },
  {
   "cell_type": "code",
   "execution_count": 907,
   "id": "ff9aae84-dc25-41c9-a824-46e77c850e4f",
   "metadata": {},
   "outputs": [
    {
     "data": {
      "text/plain": [
       "0.7200414948187325"
      ]
     },
     "execution_count": 907,
     "metadata": {},
     "output_type": "execute_result"
    }
   ],
   "source": [
    "metrics.roc_auc_score(y_test, pred_data_test)"
   ]
  },
  {
   "cell_type": "code",
   "execution_count": 909,
   "id": "56899aa8-3f9a-402f-82e3-8eb69d426968",
   "metadata": {},
   "outputs": [],
   "source": [
    "pred_data_test_original = best_boost.predict_proba(data_test_original)"
   ]
  },
  {
   "cell_type": "code",
   "execution_count": 910,
   "id": "ccf78608-ac35-4321-9522-fce46f79257f",
   "metadata": {},
   "outputs": [
    {
     "data": {
      "text/plain": [
       "(3832, 2)"
      ]
     },
     "execution_count": 910,
     "metadata": {},
     "output_type": "execute_result"
    }
   ],
   "source": [
    "pred_data_test_original.shape"
   ]
  },
  {
   "cell_type": "code",
   "execution_count": 911,
   "id": "d3d434d0-586d-41fe-9a77-a4adb0c27885",
   "metadata": {},
   "outputs": [
    {
     "data": {
      "text/plain": [
       "(3832, 1)"
      ]
     },
     "execution_count": 911,
     "metadata": {},
     "output_type": "execute_result"
    }
   ],
   "source": [
    "df_competencia_try5 = df_test_original[['enrollee_id']]\n",
    "df_competencia_try5.shape"
   ]
  },
  {
   "cell_type": "code",
   "execution_count": 912,
   "id": "c0a74f3a-4bbb-4489-b050-c2c122bcad15",
   "metadata": {},
   "outputs": [],
   "source": [
    "lista_target=[]\n",
    "for x in pred_data_test_original:\n",
    "    lista_target.append(x[1])"
   ]
  },
  {
   "cell_type": "code",
   "execution_count": 913,
   "id": "e7dcb859-7038-4d68-8308-77c76f3222d4",
   "metadata": {},
   "outputs": [],
   "source": [
    "target = pd.DataFrame(lista_target)"
   ]
  },
  {
   "cell_type": "code",
   "execution_count": 914,
   "id": "64610328-344e-41f9-bd22-298a91f6ea0f",
   "metadata": {},
   "outputs": [
    {
     "name": "stderr",
     "output_type": "stream",
     "text": [
      "C:\\Users\\tllt1\\AppData\\Local\\Temp\\ipykernel_10504\\4252255903.py:1: SettingWithCopyWarning: \n",
      "A value is trying to be set on a copy of a slice from a DataFrame.\n",
      "Try using .loc[row_indexer,col_indexer] = value instead\n",
      "\n",
      "See the caveats in the documentation: https://pandas.pydata.org/pandas-docs/stable/user_guide/indexing.html#returning-a-view-versus-a-copy\n",
      "  df_competencia_try5['target'] = target\n"
     ]
    },
    {
     "data": {
      "text/html": [
       "<div>\n",
       "<style scoped>\n",
       "    .dataframe tbody tr th:only-of-type {\n",
       "        vertical-align: middle;\n",
       "    }\n",
       "\n",
       "    .dataframe tbody tr th {\n",
       "        vertical-align: top;\n",
       "    }\n",
       "\n",
       "    .dataframe thead th {\n",
       "        text-align: right;\n",
       "    }\n",
       "</style>\n",
       "<table border=\"1\" class=\"dataframe\">\n",
       "  <thead>\n",
       "    <tr style=\"text-align: right;\">\n",
       "      <th></th>\n",
       "      <th>enrollee_id</th>\n",
       "      <th>target</th>\n",
       "    </tr>\n",
       "  </thead>\n",
       "  <tbody>\n",
       "    <tr>\n",
       "      <th>0</th>\n",
       "      <td>23603</td>\n",
       "      <td>0.502979</td>\n",
       "    </tr>\n",
       "    <tr>\n",
       "      <th>1</th>\n",
       "      <td>22499</td>\n",
       "      <td>0.495994</td>\n",
       "    </tr>\n",
       "    <tr>\n",
       "      <th>2</th>\n",
       "      <td>10465</td>\n",
       "      <td>0.500981</td>\n",
       "    </tr>\n",
       "    <tr>\n",
       "      <th>3</th>\n",
       "      <td>8293</td>\n",
       "      <td>0.496667</td>\n",
       "    </tr>\n",
       "    <tr>\n",
       "      <th>4</th>\n",
       "      <td>4246</td>\n",
       "      <td>0.496063</td>\n",
       "    </tr>\n",
       "    <tr>\n",
       "      <th>...</th>\n",
       "      <td>...</td>\n",
       "      <td>...</td>\n",
       "    </tr>\n",
       "    <tr>\n",
       "      <th>3827</th>\n",
       "      <td>8880</td>\n",
       "      <td>0.501966</td>\n",
       "    </tr>\n",
       "    <tr>\n",
       "      <th>3828</th>\n",
       "      <td>7886</td>\n",
       "      <td>0.498103</td>\n",
       "    </tr>\n",
       "    <tr>\n",
       "      <th>3829</th>\n",
       "      <td>12279</td>\n",
       "      <td>0.498850</td>\n",
       "    </tr>\n",
       "    <tr>\n",
       "      <th>3830</th>\n",
       "      <td>5326</td>\n",
       "      <td>0.494032</td>\n",
       "    </tr>\n",
       "    <tr>\n",
       "      <th>3831</th>\n",
       "      <td>4017</td>\n",
       "      <td>0.496973</td>\n",
       "    </tr>\n",
       "  </tbody>\n",
       "</table>\n",
       "<p>3832 rows × 2 columns</p>\n",
       "</div>"
      ],
      "text/plain": [
       "      enrollee_id    target\n",
       "0           23603  0.502979\n",
       "1           22499  0.495994\n",
       "2           10465  0.500981\n",
       "3            8293  0.496667\n",
       "4            4246  0.496063\n",
       "...           ...       ...\n",
       "3827         8880  0.501966\n",
       "3828         7886  0.498103\n",
       "3829        12279  0.498850\n",
       "3830         5326  0.494032\n",
       "3831         4017  0.496973\n",
       "\n",
       "[3832 rows x 2 columns]"
      ]
     },
     "execution_count": 914,
     "metadata": {},
     "output_type": "execute_result"
    }
   ],
   "source": [
    "df_competencia_try5['target'] = target\n",
    "df_competencia_try5"
   ]
  },
  {
   "cell_type": "code",
   "execution_count": 917,
   "id": "8ade50b6-2d6d-48bf-bafd-c5d127318224",
   "metadata": {},
   "outputs": [],
   "source": [
    "df_competencia_try5.to_csv('Submission_6_ada_under.csv', index=False)"
   ]
  },
  {
   "cell_type": "code",
   "execution_count": 918,
   "id": "430c2b04-fd6a-4b25-9e41-4e9a6c625a7f",
   "metadata": {},
   "outputs": [
    {
     "data": {
      "text/plain": [
       "(3832, 2)"
      ]
     },
     "execution_count": 918,
     "metadata": {},
     "output_type": "execute_result"
    }
   ],
   "source": [
    "sub5 = pd.read_csv('Submission_6_ada_under.csv')\n",
    "sub5.shape"
   ]
  },
  {
   "cell_type": "code",
   "execution_count": 776,
   "id": "9c8873f9-d7a1-4565-8497-943370911514",
   "metadata": {},
   "outputs": [
    {
     "data": {
      "text/html": [
       "<div>\n",
       "<style scoped>\n",
       "    .dataframe tbody tr th:only-of-type {\n",
       "        vertical-align: middle;\n",
       "    }\n",
       "\n",
       "    .dataframe tbody tr th {\n",
       "        vertical-align: top;\n",
       "    }\n",
       "\n",
       "    .dataframe thead th {\n",
       "        text-align: right;\n",
       "    }\n",
       "</style>\n",
       "<table border=\"1\" class=\"dataframe\">\n",
       "  <thead>\n",
       "    <tr style=\"text-align: right;\">\n",
       "      <th></th>\n",
       "      <th>enrollee_id</th>\n",
       "      <th>target</th>\n",
       "    </tr>\n",
       "  </thead>\n",
       "  <tbody>\n",
       "    <tr>\n",
       "      <th>0</th>\n",
       "      <td>23603</td>\n",
       "      <td>0.699323</td>\n",
       "    </tr>\n",
       "    <tr>\n",
       "      <th>1</th>\n",
       "      <td>22499</td>\n",
       "      <td>0.359634</td>\n",
       "    </tr>\n",
       "    <tr>\n",
       "      <th>2</th>\n",
       "      <td>10465</td>\n",
       "      <td>0.532855</td>\n",
       "    </tr>\n",
       "    <tr>\n",
       "      <th>3</th>\n",
       "      <td>8293</td>\n",
       "      <td>0.216429</td>\n",
       "    </tr>\n",
       "    <tr>\n",
       "      <th>4</th>\n",
       "      <td>4246</td>\n",
       "      <td>0.245525</td>\n",
       "    </tr>\n",
       "  </tbody>\n",
       "</table>\n",
       "</div>"
      ],
      "text/plain": [
       "   enrollee_id    target\n",
       "0        23603  0.699323\n",
       "1        22499  0.359634\n",
       "2        10465  0.532855\n",
       "3         8293  0.216429\n",
       "4         4246  0.245525"
      ]
     },
     "execution_count": 776,
     "metadata": {},
     "output_type": "execute_result"
    }
   ],
   "source": [
    "sub5.head()"
   ]
  },
  {
   "cell_type": "code",
   "execution_count": null,
   "id": "a8f04968-109c-46eb-ba93-ad779d91bce2",
   "metadata": {},
   "outputs": [],
   "source": []
  }
 ],
 "metadata": {
  "kernelspec": {
   "display_name": "Python 3 (ipykernel)",
   "language": "python",
   "name": "python3"
  },
  "language_info": {
   "codemirror_mode": {
    "name": "ipython",
    "version": 3
   },
   "file_extension": ".py",
   "mimetype": "text/x-python",
   "name": "python",
   "nbconvert_exporter": "python",
   "pygments_lexer": "ipython3",
   "version": "3.9.12"
  }
 },
 "nbformat": 4,
 "nbformat_minor": 5
}
